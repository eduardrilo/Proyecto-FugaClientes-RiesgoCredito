{
  "nbformat": 4,
  "nbformat_minor": 0,
  "metadata": {
    "colab": {
      "provenance": []
    },
    "kernelspec": {
      "name": "python3",
      "display_name": "Python 3"
    }
  },
  "cells": [
    {
      "cell_type": "markdown",
      "metadata": {
        "id": "D9uxIwa6gNC0"
      },
      "source": [
        "\n",
        "# Analytics y Big Data: Ciencia de los Datos aplicada al mundo de los negocios"
      ]
    },
    {
      "cell_type": "markdown",
      "metadata": {
        "id": "PCxsJ6Bmccaw"
      },
      "source": [
        "Los datos en el mundo real suelen estar incompletos y tener inconsistencias. Por esto, es necesario preparar los datos antes de ejecutar modelos de analítica. En este primer laboratorio prepararemos datos de riesgo de crédito para que en los próximos laboratorios encontremos patrones valiosos para la toma de decisiones.\n",
        "Para partir, descargamos las librerías a utilizar. Esto es necesario hacerlo la primera vez que queremos ejecutar estos códigos. Tenemos bibliotecas como numpy, que se utiliza para hacer operaciones matemáticas, o scikit-learn, diseñada para el aprendizaje de máquinas.\n"
      ]
    },
    {
      "cell_type": "code",
      "metadata": {
        "id": "MK4DCMXJ32BB"
      },
      "source": [
        "!pip -q install numpy gensim scikit-learn"
      ],
      "execution_count": null,
      "outputs": []
    },
    {
      "cell_type": "markdown",
      "metadata": {
        "id": "23g4k0OWXdqx"
      },
      "source": [
        "Luego es necesario importar las librerías con las que vamos a trabajar. Esto es necesario hacerlo siempre que queramos correr este código."
      ]
    },
    {
      "cell_type": "code",
      "metadata": {
        "id": "Iw7L8Yn9WNJd"
      },
      "source": [
        "import warnings\n",
        "warnings.simplefilter(action='ignore', category=FutureWarning)\n",
        "import pandas as pd\n",
        "import numpy as np\n",
        "import pandas.util.testing as tm\n",
        "import matplotlib.pyplot as plt\n",
        "import seaborn as sn\n",
        "from pandas.api.types import is_numeric_dtype\n",
        "from scipy import stats\n",
        "from scipy.stats import chi2_contingency\n",
        "from sklearn import preprocessing\n",
        "from sklearn.preprocessing import MinMaxScaler, KBinsDiscretizer\n",
        "from sklearn.experimental import enable_iterative_imputer\n",
        "from sklearn.impute import IterativeImputer\n",
        "from sklearn.feature_selection import SelectKBest, f_classif\n",
        "np.set_printoptions(suppress=True)"
      ],
      "execution_count": null,
      "outputs": []
    },
    {
      "cell_type": "markdown",
      "metadata": {
        "id": "a_BsjO2Sar9t"
      },
      "source": [
        "#Subir un archivo de Google Drive"
      ]
    },
    {
      "cell_type": "markdown",
      "metadata": {
        "id": "5dXxINCqdsCQ"
      },
      "source": [
        "El siguiente paso es montar Google Drive para poder enlazar nuestra base de datos. De esta forma podemos cargar después nuestra base de datos creditSIM.xlsx (que tenemos que tener en una carpeta “Colab Notebooks” en nuestro Drive claramente identificada).\n",
        "\n",
        "**Cuando corra la siguiente línea, siga las intrucciones indicando la cuenta de Google correspondiente y aceptando las condiciones.**"
      ]
    },
    {
      "cell_type": "code",
      "metadata": {
        "id": "6X5jb9a1ay3A",
        "colab": {
          "base_uri": "https://localhost:8080/"
        },
        "outputId": "e0a3697e-5df5-42a8-e4b1-b4a1a18da6f8"
      },
      "source": [
        "from google.colab import drive\n",
        "drive.mount('/content/gdrive')"
      ],
      "execution_count": null,
      "outputs": [
        {
          "output_type": "stream",
          "name": "stdout",
          "text": [
            "Drive already mounted at /content/gdrive; to attempt to forcibly remount, call drive.mount(\"/content/gdrive\", force_remount=True).\n"
          ]
        }
      ]
    },
    {
      "cell_type": "markdown",
      "metadata": {
        "id": "oaMOlvv0XiTB"
      },
      "source": [
        "Una vez cargado nuestro drive, llamamos a nuestra base de datos:"
      ]
    },
    {
      "cell_type": "code",
      "metadata": {
        "id": "ZCFgq06dcIIq"
      },
      "source": [
        "ruta_data_set = 'gdrive/My Drive/Colab Notebooks/Base_Fuga_DABI_M1.xlsx'\n",
        "data_set = pd.read_excel(ruta_data_set)"
      ],
      "execution_count": null,
      "outputs": []
    },
    {
      "cell_type": "markdown",
      "metadata": {
        "id": "cWzjviZg85EJ"
      },
      "source": [
        "Descripción de variables de la base de datos:\n",
        "\n",
        "1.\tFUGA: F=cliente fugado, NF= cliente activo (variable objetivo, última columna)\n",
        "2.\tCreditMes_T: Crédito en mes T\n",
        "3.\tCreditMes_T-1: Crédito en mes T-1\n",
        "4.\tCreditMes_T-2: Crédito en mes T-2\n",
        "5.\tNumTarjCred_T: Número de tarjetas de crédito en mes T\n",
        "6.\tNumTarjCred_T-1: Número de tarjetas de crédito en mes T-1\n",
        "7.\tNumTarjCred_T-2: Número de tarjetas de crédito en mes T-2\n",
        "8.\tIngreso: Ingreso cliente\n",
        "9.\tEdad: Edad cliente\n",
        "10.\tNumTransWeb_T: Número de transacciones en web en mes T\n",
        "11.\tNumTransWeb_T-1: Número de transacciones en web en mes T-1\n",
        "12.\tNumTransWeb_T-2: Número de transacciones en web en mes T-2\n",
        "13.\tMargenComp_T: Margen del cliente para la compañía en mes T\n",
        "14.\tMargenComp_T-1: Mmargen del cliente para la compañía en mes T-1\n",
        "15.\tMargenComp_T-2: Margen del cliente para la compañía en mes T-2\n",
        "16.\tMargenComp_T-3: Margen del cliente para la compañía en mes T-3\n",
        "17.\tMargenComp_T-4: Margen del cliente para la compañía en mes T-4\n",
        "18.\tMargenComp_T-5: Margen del cliente para la compañía en mes T-5\n",
        "19.\tMargenComp_T-6: Margen del cliente para la compañía en mes T-6\n",
        "20.\tTelefono: La compañia posee el numero de telefono del cliente\n",
        "21.\tNivelEduc: Nivel Educacional del cliente\n",
        "22.\tGenero: Genero del cliente\n",
        "23.\tEstCivil: Estado civil del cliente\n",
        "24.\tRegion: Region donde vive el cliente\n",
        "\n",
        "\n",
        "\n"
      ]
    },
    {
      "cell_type": "markdown",
      "metadata": {
        "id": "j4iJce_accA_"
      },
      "source": [
        "# Análisis Exploratorio de Datos"
      ]
    },
    {
      "cell_type": "markdown",
      "metadata": {
        "id": "e7li9erhfeIZ"
      },
      "source": [
        "El AED consiste en examinar los datos para entenderlos, ver relaciones entre variables y encontrar posibles inconsistencias. Para esto, se analiza estadística descriptiva y gráﬁcos."
      ]
    },
    {
      "cell_type": "markdown",
      "metadata": {
        "id": "_bVo4YFAiwIx"
      },
      "source": [
        "## Estadística descriptiva"
      ]
    },
    {
      "cell_type": "markdown",
      "metadata": {
        "id": "xKi1wcpzKYtO"
      },
      "source": [
        "Para analizar el comportamiento de los datos de las variables numéricas, obtenemos la media, desviación estandar, mínimo, máximo y cuartiles. Mientras que para las variables categóricas obtenemos la cantidad de categorias de la variable (unique), la moda (top) y la frecuencia de de la moda (freq)."
      ]
    },
    {
      "cell_type": "code",
      "metadata": {
        "id": "-e2wYMc-eEAw",
        "colab": {
          "base_uri": "https://localhost:8080/",
          "height": 461
        },
        "outputId": "51e120c3-0d16-4e22-96e7-c27a8ba2213a"
      },
      "source": [
        "data_set.describe(include='all').round(1)"
      ],
      "execution_count": null,
      "outputs": [
        {
          "output_type": "execute_result",
          "data": {
            "text/plain": [
              "        CreditMes_T  CreditMes_T-1  CreditMes_T-2  NumTarjCred_T  \\\n",
              "count        5603.0         5605.0         5605.0         5598.0   \n",
              "unique          NaN            NaN            NaN            NaN   \n",
              "top             NaN            NaN            NaN            NaN   \n",
              "freq            NaN            NaN            NaN            NaN   \n",
              "mean      1021484.8       632812.1       583796.3            0.8   \n",
              "std        115216.5       127733.6        80016.5            0.7   \n",
              "min        912650.0       500000.0       500000.0            0.0   \n",
              "25%        990500.0       597200.0       562100.0            0.0   \n",
              "50%        997700.0       604850.0       566150.0            1.0   \n",
              "75%       1014800.0       623300.0       577400.0            1.0   \n",
              "max       5000000.0      5000000.0      3498350.0            9.0   \n",
              "\n",
              "        NumTarjCred_T-1  NumTarjCred_T-2    Ingreso    Edad  NumTransWeb_T  \\\n",
              "count            5603.0           5605.0     5605.0  5605.0         5603.0   \n",
              "unique              NaN              NaN        NaN     NaN            NaN   \n",
              "top                 NaN              NaN        NaN     NaN            NaN   \n",
              "freq                NaN              NaN        NaN     NaN            NaN   \n",
              "mean                0.8              0.8  1223802.4    35.9            5.2   \n",
              "std                 0.7              0.7   562272.8     9.2           11.3   \n",
              "min                 0.0              0.0  -975950.0    15.0            0.0   \n",
              "25%                 0.0              0.0   890450.0    29.0            0.0   \n",
              "50%                 1.0              1.0  1057650.0    33.0            0.0   \n",
              "75%                 1.0              1.0  1362600.0    41.0            6.0   \n",
              "max                 9.0              9.0  9628550.0   131.0          142.0   \n",
              "\n",
              "        NumTransWeb_T-1  ...  MargenComp_T-3  MargenComp_T-4  MargenComp_T-5  \\\n",
              "count            5603.0  ...          5605.0          5603.0          5604.0   \n",
              "unique              NaN  ...             NaN             NaN             NaN   \n",
              "top                 NaN  ...             NaN             NaN             NaN   \n",
              "freq                NaN  ...             NaN             NaN             NaN   \n",
              "mean                3.9  ...        253053.6        253046.6        260956.4   \n",
              "std                 8.5  ...          2472.4          2546.6          1653.4   \n",
              "min                 0.0  ...        100000.0        157840.0        183560.0   \n",
              "25%                 0.0  ...        252840.0        252960.0        260800.0   \n",
              "50%                 1.0  ...        252960.0        253040.0        260880.0   \n",
              "75%                 5.0  ...        253260.0        253320.0        261100.0   \n",
              "max               159.0  ...        300000.0        273820.0        300000.0   \n",
              "\n",
              "        MargenComp_T-6  Telefono  NivelEduc  Genero  EstCivil Region  FUGA  \n",
              "count           5605.0      5605       5602    5605      5603   5605  5605  \n",
              "unique             NaN         1          4       3         4      1     2  \n",
              "top                NaN        SI        UNI       M       CAS     RM    NF  \n",
              "freq               NaN      5605       3627    3895      2960   5605  4889  \n",
              "mean          195991.5       NaN        NaN     NaN       NaN    NaN   NaN  \n",
              "std             3001.6       NaN        NaN     NaN       NaN    NaN   NaN  \n",
              "min           137500.0       NaN        NaN     NaN       NaN    NaN   NaN  \n",
              "25%           195380.0       NaN        NaN     NaN       NaN    NaN   NaN  \n",
              "50%           195640.0       NaN        NaN     NaN       NaN    NaN   NaN  \n",
              "75%           196420.0       NaN        NaN     NaN       NaN    NaN   NaN  \n",
              "max           287480.0       NaN        NaN     NaN       NaN    NaN   NaN  \n",
              "\n",
              "[11 rows x 24 columns]"
            ],
            "text/html": [
              "\n",
              "  <div id=\"df-bb92f74f-d982-4967-a168-9e4c44ef1dda\" class=\"colab-df-container\">\n",
              "    <div>\n",
              "<style scoped>\n",
              "    .dataframe tbody tr th:only-of-type {\n",
              "        vertical-align: middle;\n",
              "    }\n",
              "\n",
              "    .dataframe tbody tr th {\n",
              "        vertical-align: top;\n",
              "    }\n",
              "\n",
              "    .dataframe thead th {\n",
              "        text-align: right;\n",
              "    }\n",
              "</style>\n",
              "<table border=\"1\" class=\"dataframe\">\n",
              "  <thead>\n",
              "    <tr style=\"text-align: right;\">\n",
              "      <th></th>\n",
              "      <th>CreditMes_T</th>\n",
              "      <th>CreditMes_T-1</th>\n",
              "      <th>CreditMes_T-2</th>\n",
              "      <th>NumTarjCred_T</th>\n",
              "      <th>NumTarjCred_T-1</th>\n",
              "      <th>NumTarjCred_T-2</th>\n",
              "      <th>Ingreso</th>\n",
              "      <th>Edad</th>\n",
              "      <th>NumTransWeb_T</th>\n",
              "      <th>NumTransWeb_T-1</th>\n",
              "      <th>...</th>\n",
              "      <th>MargenComp_T-3</th>\n",
              "      <th>MargenComp_T-4</th>\n",
              "      <th>MargenComp_T-5</th>\n",
              "      <th>MargenComp_T-6</th>\n",
              "      <th>Telefono</th>\n",
              "      <th>NivelEduc</th>\n",
              "      <th>Genero</th>\n",
              "      <th>EstCivil</th>\n",
              "      <th>Region</th>\n",
              "      <th>FUGA</th>\n",
              "    </tr>\n",
              "  </thead>\n",
              "  <tbody>\n",
              "    <tr>\n",
              "      <th>count</th>\n",
              "      <td>5603.0</td>\n",
              "      <td>5605.0</td>\n",
              "      <td>5605.0</td>\n",
              "      <td>5598.0</td>\n",
              "      <td>5603.0</td>\n",
              "      <td>5605.0</td>\n",
              "      <td>5605.0</td>\n",
              "      <td>5605.0</td>\n",
              "      <td>5603.0</td>\n",
              "      <td>5603.0</td>\n",
              "      <td>...</td>\n",
              "      <td>5605.0</td>\n",
              "      <td>5603.0</td>\n",
              "      <td>5604.0</td>\n",
              "      <td>5605.0</td>\n",
              "      <td>5605</td>\n",
              "      <td>5602</td>\n",
              "      <td>5605</td>\n",
              "      <td>5603</td>\n",
              "      <td>5605</td>\n",
              "      <td>5605</td>\n",
              "    </tr>\n",
              "    <tr>\n",
              "      <th>unique</th>\n",
              "      <td>NaN</td>\n",
              "      <td>NaN</td>\n",
              "      <td>NaN</td>\n",
              "      <td>NaN</td>\n",
              "      <td>NaN</td>\n",
              "      <td>NaN</td>\n",
              "      <td>NaN</td>\n",
              "      <td>NaN</td>\n",
              "      <td>NaN</td>\n",
              "      <td>NaN</td>\n",
              "      <td>...</td>\n",
              "      <td>NaN</td>\n",
              "      <td>NaN</td>\n",
              "      <td>NaN</td>\n",
              "      <td>NaN</td>\n",
              "      <td>1</td>\n",
              "      <td>4</td>\n",
              "      <td>3</td>\n",
              "      <td>4</td>\n",
              "      <td>1</td>\n",
              "      <td>2</td>\n",
              "    </tr>\n",
              "    <tr>\n",
              "      <th>top</th>\n",
              "      <td>NaN</td>\n",
              "      <td>NaN</td>\n",
              "      <td>NaN</td>\n",
              "      <td>NaN</td>\n",
              "      <td>NaN</td>\n",
              "      <td>NaN</td>\n",
              "      <td>NaN</td>\n",
              "      <td>NaN</td>\n",
              "      <td>NaN</td>\n",
              "      <td>NaN</td>\n",
              "      <td>...</td>\n",
              "      <td>NaN</td>\n",
              "      <td>NaN</td>\n",
              "      <td>NaN</td>\n",
              "      <td>NaN</td>\n",
              "      <td>SI</td>\n",
              "      <td>UNI</td>\n",
              "      <td>M</td>\n",
              "      <td>CAS</td>\n",
              "      <td>RM</td>\n",
              "      <td>NF</td>\n",
              "    </tr>\n",
              "    <tr>\n",
              "      <th>freq</th>\n",
              "      <td>NaN</td>\n",
              "      <td>NaN</td>\n",
              "      <td>NaN</td>\n",
              "      <td>NaN</td>\n",
              "      <td>NaN</td>\n",
              "      <td>NaN</td>\n",
              "      <td>NaN</td>\n",
              "      <td>NaN</td>\n",
              "      <td>NaN</td>\n",
              "      <td>NaN</td>\n",
              "      <td>...</td>\n",
              "      <td>NaN</td>\n",
              "      <td>NaN</td>\n",
              "      <td>NaN</td>\n",
              "      <td>NaN</td>\n",
              "      <td>5605</td>\n",
              "      <td>3627</td>\n",
              "      <td>3895</td>\n",
              "      <td>2960</td>\n",
              "      <td>5605</td>\n",
              "      <td>4889</td>\n",
              "    </tr>\n",
              "    <tr>\n",
              "      <th>mean</th>\n",
              "      <td>1021484.8</td>\n",
              "      <td>632812.1</td>\n",
              "      <td>583796.3</td>\n",
              "      <td>0.8</td>\n",
              "      <td>0.8</td>\n",
              "      <td>0.8</td>\n",
              "      <td>1223802.4</td>\n",
              "      <td>35.9</td>\n",
              "      <td>5.2</td>\n",
              "      <td>3.9</td>\n",
              "      <td>...</td>\n",
              "      <td>253053.6</td>\n",
              "      <td>253046.6</td>\n",
              "      <td>260956.4</td>\n",
              "      <td>195991.5</td>\n",
              "      <td>NaN</td>\n",
              "      <td>NaN</td>\n",
              "      <td>NaN</td>\n",
              "      <td>NaN</td>\n",
              "      <td>NaN</td>\n",
              "      <td>NaN</td>\n",
              "    </tr>\n",
              "    <tr>\n",
              "      <th>std</th>\n",
              "      <td>115216.5</td>\n",
              "      <td>127733.6</td>\n",
              "      <td>80016.5</td>\n",
              "      <td>0.7</td>\n",
              "      <td>0.7</td>\n",
              "      <td>0.7</td>\n",
              "      <td>562272.8</td>\n",
              "      <td>9.2</td>\n",
              "      <td>11.3</td>\n",
              "      <td>8.5</td>\n",
              "      <td>...</td>\n",
              "      <td>2472.4</td>\n",
              "      <td>2546.6</td>\n",
              "      <td>1653.4</td>\n",
              "      <td>3001.6</td>\n",
              "      <td>NaN</td>\n",
              "      <td>NaN</td>\n",
              "      <td>NaN</td>\n",
              "      <td>NaN</td>\n",
              "      <td>NaN</td>\n",
              "      <td>NaN</td>\n",
              "    </tr>\n",
              "    <tr>\n",
              "      <th>min</th>\n",
              "      <td>912650.0</td>\n",
              "      <td>500000.0</td>\n",
              "      <td>500000.0</td>\n",
              "      <td>0.0</td>\n",
              "      <td>0.0</td>\n",
              "      <td>0.0</td>\n",
              "      <td>-975950.0</td>\n",
              "      <td>15.0</td>\n",
              "      <td>0.0</td>\n",
              "      <td>0.0</td>\n",
              "      <td>...</td>\n",
              "      <td>100000.0</td>\n",
              "      <td>157840.0</td>\n",
              "      <td>183560.0</td>\n",
              "      <td>137500.0</td>\n",
              "      <td>NaN</td>\n",
              "      <td>NaN</td>\n",
              "      <td>NaN</td>\n",
              "      <td>NaN</td>\n",
              "      <td>NaN</td>\n",
              "      <td>NaN</td>\n",
              "    </tr>\n",
              "    <tr>\n",
              "      <th>25%</th>\n",
              "      <td>990500.0</td>\n",
              "      <td>597200.0</td>\n",
              "      <td>562100.0</td>\n",
              "      <td>0.0</td>\n",
              "      <td>0.0</td>\n",
              "      <td>0.0</td>\n",
              "      <td>890450.0</td>\n",
              "      <td>29.0</td>\n",
              "      <td>0.0</td>\n",
              "      <td>0.0</td>\n",
              "      <td>...</td>\n",
              "      <td>252840.0</td>\n",
              "      <td>252960.0</td>\n",
              "      <td>260800.0</td>\n",
              "      <td>195380.0</td>\n",
              "      <td>NaN</td>\n",
              "      <td>NaN</td>\n",
              "      <td>NaN</td>\n",
              "      <td>NaN</td>\n",
              "      <td>NaN</td>\n",
              "      <td>NaN</td>\n",
              "    </tr>\n",
              "    <tr>\n",
              "      <th>50%</th>\n",
              "      <td>997700.0</td>\n",
              "      <td>604850.0</td>\n",
              "      <td>566150.0</td>\n",
              "      <td>1.0</td>\n",
              "      <td>1.0</td>\n",
              "      <td>1.0</td>\n",
              "      <td>1057650.0</td>\n",
              "      <td>33.0</td>\n",
              "      <td>0.0</td>\n",
              "      <td>1.0</td>\n",
              "      <td>...</td>\n",
              "      <td>252960.0</td>\n",
              "      <td>253040.0</td>\n",
              "      <td>260880.0</td>\n",
              "      <td>195640.0</td>\n",
              "      <td>NaN</td>\n",
              "      <td>NaN</td>\n",
              "      <td>NaN</td>\n",
              "      <td>NaN</td>\n",
              "      <td>NaN</td>\n",
              "      <td>NaN</td>\n",
              "    </tr>\n",
              "    <tr>\n",
              "      <th>75%</th>\n",
              "      <td>1014800.0</td>\n",
              "      <td>623300.0</td>\n",
              "      <td>577400.0</td>\n",
              "      <td>1.0</td>\n",
              "      <td>1.0</td>\n",
              "      <td>1.0</td>\n",
              "      <td>1362600.0</td>\n",
              "      <td>41.0</td>\n",
              "      <td>6.0</td>\n",
              "      <td>5.0</td>\n",
              "      <td>...</td>\n",
              "      <td>253260.0</td>\n",
              "      <td>253320.0</td>\n",
              "      <td>261100.0</td>\n",
              "      <td>196420.0</td>\n",
              "      <td>NaN</td>\n",
              "      <td>NaN</td>\n",
              "      <td>NaN</td>\n",
              "      <td>NaN</td>\n",
              "      <td>NaN</td>\n",
              "      <td>NaN</td>\n",
              "    </tr>\n",
              "    <tr>\n",
              "      <th>max</th>\n",
              "      <td>5000000.0</td>\n",
              "      <td>5000000.0</td>\n",
              "      <td>3498350.0</td>\n",
              "      <td>9.0</td>\n",
              "      <td>9.0</td>\n",
              "      <td>9.0</td>\n",
              "      <td>9628550.0</td>\n",
              "      <td>131.0</td>\n",
              "      <td>142.0</td>\n",
              "      <td>159.0</td>\n",
              "      <td>...</td>\n",
              "      <td>300000.0</td>\n",
              "      <td>273820.0</td>\n",
              "      <td>300000.0</td>\n",
              "      <td>287480.0</td>\n",
              "      <td>NaN</td>\n",
              "      <td>NaN</td>\n",
              "      <td>NaN</td>\n",
              "      <td>NaN</td>\n",
              "      <td>NaN</td>\n",
              "      <td>NaN</td>\n",
              "    </tr>\n",
              "  </tbody>\n",
              "</table>\n",
              "<p>11 rows × 24 columns</p>\n",
              "</div>\n",
              "    <div class=\"colab-df-buttons\">\n",
              "\n",
              "  <div class=\"colab-df-container\">\n",
              "    <button class=\"colab-df-convert\" onclick=\"convertToInteractive('df-bb92f74f-d982-4967-a168-9e4c44ef1dda')\"\n",
              "            title=\"Convert this dataframe to an interactive table.\"\n",
              "            style=\"display:none;\">\n",
              "\n",
              "  <svg xmlns=\"http://www.w3.org/2000/svg\" height=\"24px\" viewBox=\"0 -960 960 960\">\n",
              "    <path d=\"M120-120v-720h720v720H120Zm60-500h600v-160H180v160Zm220 220h160v-160H400v160Zm0 220h160v-160H400v160ZM180-400h160v-160H180v160Zm440 0h160v-160H620v160ZM180-180h160v-160H180v160Zm440 0h160v-160H620v160Z\"/>\n",
              "  </svg>\n",
              "    </button>\n",
              "\n",
              "  <style>\n",
              "    .colab-df-container {\n",
              "      display:flex;\n",
              "      gap: 12px;\n",
              "    }\n",
              "\n",
              "    .colab-df-convert {\n",
              "      background-color: #E8F0FE;\n",
              "      border: none;\n",
              "      border-radius: 50%;\n",
              "      cursor: pointer;\n",
              "      display: none;\n",
              "      fill: #1967D2;\n",
              "      height: 32px;\n",
              "      padding: 0 0 0 0;\n",
              "      width: 32px;\n",
              "    }\n",
              "\n",
              "    .colab-df-convert:hover {\n",
              "      background-color: #E2EBFA;\n",
              "      box-shadow: 0px 1px 2px rgba(60, 64, 67, 0.3), 0px 1px 3px 1px rgba(60, 64, 67, 0.15);\n",
              "      fill: #174EA6;\n",
              "    }\n",
              "\n",
              "    .colab-df-buttons div {\n",
              "      margin-bottom: 4px;\n",
              "    }\n",
              "\n",
              "    [theme=dark] .colab-df-convert {\n",
              "      background-color: #3B4455;\n",
              "      fill: #D2E3FC;\n",
              "    }\n",
              "\n",
              "    [theme=dark] .colab-df-convert:hover {\n",
              "      background-color: #434B5C;\n",
              "      box-shadow: 0px 1px 3px 1px rgba(0, 0, 0, 0.15);\n",
              "      filter: drop-shadow(0px 1px 2px rgba(0, 0, 0, 0.3));\n",
              "      fill: #FFFFFF;\n",
              "    }\n",
              "  </style>\n",
              "\n",
              "    <script>\n",
              "      const buttonEl =\n",
              "        document.querySelector('#df-bb92f74f-d982-4967-a168-9e4c44ef1dda button.colab-df-convert');\n",
              "      buttonEl.style.display =\n",
              "        google.colab.kernel.accessAllowed ? 'block' : 'none';\n",
              "\n",
              "      async function convertToInteractive(key) {\n",
              "        const element = document.querySelector('#df-bb92f74f-d982-4967-a168-9e4c44ef1dda');\n",
              "        const dataTable =\n",
              "          await google.colab.kernel.invokeFunction('convertToInteractive',\n",
              "                                                    [key], {});\n",
              "        if (!dataTable) return;\n",
              "\n",
              "        const docLinkHtml = 'Like what you see? Visit the ' +\n",
              "          '<a target=\"_blank\" href=https://colab.research.google.com/notebooks/data_table.ipynb>data table notebook</a>'\n",
              "          + ' to learn more about interactive tables.';\n",
              "        element.innerHTML = '';\n",
              "        dataTable['output_type'] = 'display_data';\n",
              "        await google.colab.output.renderOutput(dataTable, element);\n",
              "        const docLink = document.createElement('div');\n",
              "        docLink.innerHTML = docLinkHtml;\n",
              "        element.appendChild(docLink);\n",
              "      }\n",
              "    </script>\n",
              "  </div>\n",
              "\n",
              "\n",
              "<div id=\"df-6f26807d-3cc5-490e-a9fc-a657c831865e\">\n",
              "  <button class=\"colab-df-quickchart\" onclick=\"quickchart('df-6f26807d-3cc5-490e-a9fc-a657c831865e')\"\n",
              "            title=\"Suggest charts.\"\n",
              "            style=\"display:none;\">\n",
              "\n",
              "<svg xmlns=\"http://www.w3.org/2000/svg\" height=\"24px\"viewBox=\"0 0 24 24\"\n",
              "     width=\"24px\">\n",
              "    <g>\n",
              "        <path d=\"M19 3H5c-1.1 0-2 .9-2 2v14c0 1.1.9 2 2 2h14c1.1 0 2-.9 2-2V5c0-1.1-.9-2-2-2zM9 17H7v-7h2v7zm4 0h-2V7h2v10zm4 0h-2v-4h2v4z\"/>\n",
              "    </g>\n",
              "</svg>\n",
              "  </button>\n",
              "\n",
              "<style>\n",
              "  .colab-df-quickchart {\n",
              "      --bg-color: #E8F0FE;\n",
              "      --fill-color: #1967D2;\n",
              "      --hover-bg-color: #E2EBFA;\n",
              "      --hover-fill-color: #174EA6;\n",
              "      --disabled-fill-color: #AAA;\n",
              "      --disabled-bg-color: #DDD;\n",
              "  }\n",
              "\n",
              "  [theme=dark] .colab-df-quickchart {\n",
              "      --bg-color: #3B4455;\n",
              "      --fill-color: #D2E3FC;\n",
              "      --hover-bg-color: #434B5C;\n",
              "      --hover-fill-color: #FFFFFF;\n",
              "      --disabled-bg-color: #3B4455;\n",
              "      --disabled-fill-color: #666;\n",
              "  }\n",
              "\n",
              "  .colab-df-quickchart {\n",
              "    background-color: var(--bg-color);\n",
              "    border: none;\n",
              "    border-radius: 50%;\n",
              "    cursor: pointer;\n",
              "    display: none;\n",
              "    fill: var(--fill-color);\n",
              "    height: 32px;\n",
              "    padding: 0;\n",
              "    width: 32px;\n",
              "  }\n",
              "\n",
              "  .colab-df-quickchart:hover {\n",
              "    background-color: var(--hover-bg-color);\n",
              "    box-shadow: 0 1px 2px rgba(60, 64, 67, 0.3), 0 1px 3px 1px rgba(60, 64, 67, 0.15);\n",
              "    fill: var(--button-hover-fill-color);\n",
              "  }\n",
              "\n",
              "  .colab-df-quickchart-complete:disabled,\n",
              "  .colab-df-quickchart-complete:disabled:hover {\n",
              "    background-color: var(--disabled-bg-color);\n",
              "    fill: var(--disabled-fill-color);\n",
              "    box-shadow: none;\n",
              "  }\n",
              "\n",
              "  .colab-df-spinner {\n",
              "    border: 2px solid var(--fill-color);\n",
              "    border-color: transparent;\n",
              "    border-bottom-color: var(--fill-color);\n",
              "    animation:\n",
              "      spin 1s steps(1) infinite;\n",
              "  }\n",
              "\n",
              "  @keyframes spin {\n",
              "    0% {\n",
              "      border-color: transparent;\n",
              "      border-bottom-color: var(--fill-color);\n",
              "      border-left-color: var(--fill-color);\n",
              "    }\n",
              "    20% {\n",
              "      border-color: transparent;\n",
              "      border-left-color: var(--fill-color);\n",
              "      border-top-color: var(--fill-color);\n",
              "    }\n",
              "    30% {\n",
              "      border-color: transparent;\n",
              "      border-left-color: var(--fill-color);\n",
              "      border-top-color: var(--fill-color);\n",
              "      border-right-color: var(--fill-color);\n",
              "    }\n",
              "    40% {\n",
              "      border-color: transparent;\n",
              "      border-right-color: var(--fill-color);\n",
              "      border-top-color: var(--fill-color);\n",
              "    }\n",
              "    60% {\n",
              "      border-color: transparent;\n",
              "      border-right-color: var(--fill-color);\n",
              "    }\n",
              "    80% {\n",
              "      border-color: transparent;\n",
              "      border-right-color: var(--fill-color);\n",
              "      border-bottom-color: var(--fill-color);\n",
              "    }\n",
              "    90% {\n",
              "      border-color: transparent;\n",
              "      border-bottom-color: var(--fill-color);\n",
              "    }\n",
              "  }\n",
              "</style>\n",
              "\n",
              "  <script>\n",
              "    async function quickchart(key) {\n",
              "      const quickchartButtonEl =\n",
              "        document.querySelector('#' + key + ' button');\n",
              "      quickchartButtonEl.disabled = true;  // To prevent multiple clicks.\n",
              "      quickchartButtonEl.classList.add('colab-df-spinner');\n",
              "      try {\n",
              "        const charts = await google.colab.kernel.invokeFunction(\n",
              "            'suggestCharts', [key], {});\n",
              "      } catch (error) {\n",
              "        console.error('Error during call to suggestCharts:', error);\n",
              "      }\n",
              "      quickchartButtonEl.classList.remove('colab-df-spinner');\n",
              "      quickchartButtonEl.classList.add('colab-df-quickchart-complete');\n",
              "    }\n",
              "    (() => {\n",
              "      let quickchartButtonEl =\n",
              "        document.querySelector('#df-6f26807d-3cc5-490e-a9fc-a657c831865e button');\n",
              "      quickchartButtonEl.style.display =\n",
              "        google.colab.kernel.accessAllowed ? 'block' : 'none';\n",
              "    })();\n",
              "  </script>\n",
              "</div>\n",
              "    </div>\n",
              "  </div>\n"
            ]
          },
          "metadata": {},
          "execution_count": 59
        }
      ]
    },
    {
      "cell_type": "markdown",
      "source": [],
      "metadata": {
        "id": "vjjv1N7xQvQs"
      }
    },
    {
      "cell_type": "markdown",
      "source": [
        "Ingreso negativo: -975950\n",
        "Edad mayor: 131\n",
        "Valores perdidos en las tarjetas de credito ya que deben tener 5605 datos y en algunas columnas existen menos"
      ],
      "metadata": {
        "id": "jrOeeEGsPyd-"
      }
    },
    {
      "cell_type": "markdown",
      "metadata": {
        "id": "VKyV26-hihNK"
      },
      "source": [
        "De la tabla anterior, podemos identificar VP (gracias a la fila *count*) e inconsistencias (gracias a las filas *min* y *max*), tales como una edad de 1970 o ingresos negativos.\n",
        "También podemos como vienen los datos de cada variable, como se muestra a continuación:"
      ]
    },
    {
      "cell_type": "code",
      "metadata": {
        "id": "irro93bzeqco",
        "colab": {
          "base_uri": "https://localhost:8080/"
        },
        "outputId": "e325e7a1-1e90-4515-90a3-c0e7d84bb219"
      },
      "source": [
        "print(data_set)"
      ],
      "execution_count": null,
      "outputs": [
        {
          "output_type": "stream",
          "name": "stdout",
          "text": [
            "      CreditMes_T  CreditMes_T-1  CreditMes_T-2  NumTarjCred_T  \\\n",
            "0       1031900.0         666500         608000            2.0   \n",
            "1       1078700.0         634100         583250            0.0   \n",
            "2       1076000.0         708800         621950            1.0   \n",
            "3        995450.0         599900         564350            1.0   \n",
            "4       1052150.0         609800         572450            1.0   \n",
            "...           ...            ...            ...            ...   \n",
            "5600     989600.0         596300         561650            0.0   \n",
            "5601     990050.0         597200         562100            1.0   \n",
            "5602     990050.0         596750         562100            0.0   \n",
            "5603     990500.0         596750         562100            0.0   \n",
            "5604     990500.0         597200         562100            2.0   \n",
            "\n",
            "      NumTarjCred_T-1  NumTarjCred_T-2  Ingreso  Edad  NumTransWeb_T  \\\n",
            "0                 2.0                2  1050050    30            1.0   \n",
            "1                 0.0                0   830600    38            0.0   \n",
            "2                 1.0                1   980700    25            0.0   \n",
            "3                 1.0                1  1178300    46            0.0   \n",
            "4                 1.0                1   868600    55            6.0   \n",
            "...               ...              ...      ...   ...            ...   \n",
            "5600              0.0                0   972150    26            0.0   \n",
            "5601              1.0                1   992100    33           15.0   \n",
            "5602              0.0                0   851500    30            0.0   \n",
            "5603              0.0                0  3693900    58            0.0   \n",
            "5604              0.0                0   866700    20            0.0   \n",
            "\n",
            "      NumTransWeb_T-1  ...  MargenComp_T-3  MargenComp_T-4  MargenComp_T-5  \\\n",
            "0                 0.0  ...          252700        252800.0        260700.0   \n",
            "1                 0.0  ...          252800        252860.0        260780.0   \n",
            "2                 0.0  ...          252840        252580.0        260200.0   \n",
            "3                 0.0  ...          253160        253280.0        261220.0   \n",
            "4                 3.0  ...          253140        253040.0        260920.0   \n",
            "...               ...  ...             ...             ...             ...   \n",
            "5600              0.0  ...          252840        252960.0        260800.0   \n",
            "5601              1.0  ...          253520        242060.0        261100.0   \n",
            "5602              0.0  ...          252860        252980.0        260820.0   \n",
            "5603              0.0  ...          249980        253320.0        261240.0   \n",
            "5604              0.0  ...          252840        252960.0        260800.0   \n",
            "\n",
            "      MargenComp_T-6  Telefono  NivelEduc  Genero  EstCivil Region FUGA  \n",
            "0             195120        SI        UNI       M       SOL     RM   NF  \n",
            "1             196480        SI        TEC       F       CAS     RM   NF  \n",
            "2             195380        SI        UNI       F       SOL     RM   NF  \n",
            "3             197040        SI        TEC       M       CAS     RM   NF  \n",
            "4             196040        SI        MED       F       SOL     RM   NF  \n",
            "...              ...       ...        ...     ...       ...    ...  ...  \n",
            "5600          195380        SI        UNI       F       SOL     RM    F  \n",
            "5601          197120        SI        UNI       M       SOL     RM    F  \n",
            "5602          195420        SI        TEC       M       CAS     RM    F  \n",
            "5603          198440        SI        UNI       F       VIU     RM    F  \n",
            "5604          195380        SI        UNI       M       SOL     RM    F  \n",
            "\n",
            "[5605 rows x 24 columns]\n"
          ]
        }
      ]
    },
    {
      "cell_type": "markdown",
      "metadata": {
        "id": "_Gs9dRR_iqaS"
      },
      "source": [
        "Una forma más cómoda de visualizar valores perdidos es la siguiente:"
      ]
    },
    {
      "cell_type": "code",
      "metadata": {
        "id": "AWDymVEwfAkY",
        "colab": {
          "base_uri": "https://localhost:8080/"
        },
        "outputId": "3e144195-afa6-4f9b-e5e4-ca9fc13b51bd"
      },
      "source": [
        "data_set.isnull().sum()"
      ],
      "execution_count": null,
      "outputs": [
        {
          "output_type": "execute_result",
          "data": {
            "text/plain": [
              "CreditMes_T        2\n",
              "CreditMes_T-1      0\n",
              "CreditMes_T-2      0\n",
              "NumTarjCred_T      7\n",
              "NumTarjCred_T-1    2\n",
              "NumTarjCred_T-2    0\n",
              "Ingreso            0\n",
              "Edad               0\n",
              "NumTransWeb_T      2\n",
              "NumTransWeb_T-1    2\n",
              "NumTransWeb_T-2    0\n",
              "MargenComp_T       2\n",
              "MargenComp_T-1     1\n",
              "MargenComp_T-2     0\n",
              "MargenComp_T-3     0\n",
              "MargenComp_T-4     2\n",
              "MargenComp_T-5     1\n",
              "MargenComp_T-6     0\n",
              "Telefono           0\n",
              "NivelEduc          3\n",
              "Genero             0\n",
              "EstCivil           2\n",
              "Region             0\n",
              "FUGA               0\n",
              "dtype: int64"
            ]
          },
          "metadata": {},
          "execution_count": 61
        }
      ]
    },
    {
      "cell_type": "markdown",
      "metadata": {
        "id": "U40OZp-Gj6W5"
      },
      "source": [
        "## Gráficos"
      ]
    },
    {
      "cell_type": "markdown",
      "metadata": {
        "id": "0-aNSUq_aLql"
      },
      "source": [
        "Los gráficos nos permiten identificar patrones univariados y bivariados, visualizar los datos y valores atípicos. Veamos primero el *Gráfico de frecuencias* estándar para la variable edad:"
      ]
    },
    {
      "cell_type": "code",
      "metadata": {
        "id": "jP3JI8Wagb-F",
        "colab": {
          "base_uri": "https://localhost:8080/",
          "height": 554
        },
        "outputId": "824c7123-3f70-47dd-c894-bbad9d1c1fa6"
      },
      "source": [
        "data_set['Edad'].value_counts().sort_index().plot.bar(figsize=(10,6)) # Cambiado\n",
        "plt.xlabel('Edad')\n",
        "plt.show()"
      ],
      "execution_count": null,
      "outputs": [
        {
          "output_type": "display_data",
          "data": {
            "text/plain": [
              "<Figure size 1000x600 with 1 Axes>"
            ],
            "image/png": "[encoded data removed]"
          },
          "metadata": {}
        }
      ]
    },
    {
      "cell_type": "markdown",
      "metadata": {
        "id": "V3smaXRJbCIM"
      },
      "source": [
        "Vemos que existe 2 valores de 127 y 131 de edad I, lo que no es posible, por lo tanto tenemos que corregir esta inconsistencia. El histograma de puntos permite visualizar valores atípicos (*outliers*)."
      ]
    },
    {
      "cell_type": "code",
      "metadata": {
        "id": "JP2Hxpw8kACn",
        "colab": {
          "base_uri": "https://localhost:8080/",
          "height": 449
        },
        "outputId": "e74f30e7-3d08-4852-d712-3d7eaee40c66"
      },
      "source": [
        "sn.stripplot(x='Ingreso', data=data_set)\n",
        "plt.show()"
      ],
      "execution_count": null,
      "outputs": [
        {
          "output_type": "display_data",
          "data": {
            "text/plain": [
              "<Figure size 640x480 with 1 Axes>"
            ],
            "image/png": "[encoded data removed]"
          },
          "metadata": {}
        }
      ]
    },
    {
      "cell_type": "markdown",
      "metadata": {
        "id": "q71jKudqoUvi"
      },
      "source": [
        "Todo lo anterior se asocia al **análisis univariado**, es decir, solo una variable con valor negativo. Podemos realizar **análisis bivariado** con el *Histograma color*, y así ver la relevancia de un atributo en relación a la variable objetivo."
      ]
    },
    {
      "cell_type": "code",
      "metadata": {
        "id": "g115VKrTn3nh",
        "colab": {
          "base_uri": "https://localhost:8080/",
          "height": 1000
        },
        "outputId": "e151f79c-b81a-4703-d610-829471efd1cd"
      },
      "source": [
        "data_set.groupby(['Edad', 'FUGA']).size().unstack().plot.bar(stacked=True) # Cambiado\n",
        "plt.xscale('linear')\n",
        "plt.show()\n",
        "data_set.groupby(['NivelEduc', 'FUGA']).size().unstack().plot.bar(stacked=True) # Cambiado\n",
        "plt.show()\n",
        "data_set.groupby(['EstCivil', 'FUGA']).size().unstack().plot.bar(stacked=True) # Cambiado\n",
        "plt.show()\n",
        "data_set.groupby(['Genero', 'FUGA']).size().unstack().plot.bar(stacked=True) # Cambiado\n",
        "plt.show()"
      ],
      "execution_count": null,
      "outputs": [
        {
          "output_type": "display_data",
          "data": {
            "text/plain": [
              "<Figure size 640x480 with 1 Axes>"
            ],
            "image/png": "[encoded data removed]"
          },
          "metadata": {}
        },
        {
          "output_type": "display_data",
          "data": {
            "text/plain": [
              "<Figure size 640x480 with 1 Axes>"
            ],
            "image/png": "[encoded data removed]"
          },
          "metadata": {}
        },
        {
          "output_type": "display_data",
          "data": {
            "text/plain": [
              "<Figure size 640x480 with 1 Axes>"
            ],
            "image/png": "[encoded data removed]"
          },
          "metadata": {}
        },
        {
          "output_type": "display_data",
          "data": {
            "text/plain": [
              "<Figure size 640x480 with 1 Axes>"
            ],
            "image/png": "[encoded data removed]"
          },
          "metadata": {}
        }
      ]
    },
    {
      "cell_type": "markdown",
      "metadata": {
        "id": "Lvol9kZOohwz"
      },
      "source": [
        "En el primer gráfico vemos claramente que la variable (1) es relevante y (2) se comporta de forma esperada: a mayor años trabajando en el mismo empleo (nos movemos a la derecha por el eje X), los clientes son en promedio menos riesgosos (la proporción de azul en las barras va creciendo).\n",
        "\n",
        "El segundo gráfico es menos claro en el patrón, pero da la impresión de que el riesgo es mayor en categorías como ed. superior completa (SupCom) e incompleta (SupInc) en relación a categorías con menor nivel educacional, como ed. básica. Este patrón es claramente inconsistente con lo que uno esperaría de la realidad, que es \"a mayor nivel educacional, menor riesgo\".\n",
        "\n",
        "¿Qué podría estar causando esta inconsistencia? En riesgo de crédito existe el problema del *sesgo de selección*: nuestros datos consisten en solo los clientes que fueron aceptados por la entidad financiera. Probablemente, muchos clientes con un nivel edicuacional bajo fueron rechazados, y quedaron sólo aquellos que mostraban un alto potencial crediticio (ingreso alto, bajas deudas, etc.). Por otro lado, los clientes con estudios universitarios pueden haber sido aceptados sin solicitar mayores antecedentes, lo que puede explicar su mayor riesgo intrínsico.\n",
        "\n",
        "Una variable inconsistente con la realidad debería ser descartada con fines predictivos ya que introduce un sesgo indeseado en el modelo. Si lo que buscamos es reemplazar el modelo original que acepta y rechaza clientes, tenderíamos a favorecer a potenciales clientes con un menor nivel educacional. Este análisis es muy importante ya que la máquina no puede hacerlo (no sabe lo que se espera de una variable).\n",
        "\n",
        "Cuando los patrones no son muy claros, podemos hacer el histograma color con proporciones en vez de conteos:"
      ]
    },
    {
      "cell_type": "code",
      "metadata": {
        "id": "Bn-OESApolT9",
        "colab": {
          "base_uri": "https://localhost:8080/",
          "height": 390
        },
        "outputId": "fb6e4969-53cc-48d5-8935-5ef607561145"
      },
      "source": [
        "data_set.groupby(['AgnosEmpleo', 'VarObj']).size().groupby(level=0).apply(lambda x: 100 * x / x.sum()).unstack().plot.bar(stacked=True)\n",
        "plt.xscale('linear')\n",
        "plt.show()\n",
        "data_set.groupby(['NivelEdu', 'VarObj']).size().groupby(level=0).apply(lambda x: 100 * x / x.sum()).unstack().plot.bar(stacked=True)\n",
        "plt.show()"
      ],
      "execution_count": null,
      "outputs": [
        {
          "output_type": "error",
          "ename": "KeyError",
          "evalue": "ignored",
          "traceback": [
            "\u001b[0;31m---------------------------------------------------------------------------\u001b[0m",
            "\u001b[0;31mKeyError\u001b[0m                                  Traceback (most recent call last)",
            "\u001b[0;32m<ipython-input-65-760974ccfb8b>\u001b[0m in \u001b[0;36m<cell line: 1>\u001b[0;34m()\u001b[0m\n\u001b[0;32m----> 1\u001b[0;31m \u001b[0mdata_set\u001b[0m\u001b[0;34m.\u001b[0m\u001b[0mgroupby\u001b[0m\u001b[0;34m(\u001b[0m\u001b[0;34m[\u001b[0m\u001b[0;34m'AgnosEmpleo'\u001b[0m\u001b[0;34m,\u001b[0m \u001b[0;34m'VarObj'\u001b[0m\u001b[0;34m]\u001b[0m\u001b[0;34m)\u001b[0m\u001b[0;34m.\u001b[0m\u001b[0msize\u001b[0m\u001b[0;34m(\u001b[0m\u001b[0;34m)\u001b[0m\u001b[0;34m.\u001b[0m\u001b[0mgroupby\u001b[0m\u001b[0;34m(\u001b[0m\u001b[0mlevel\u001b[0m\u001b[0;34m=\u001b[0m\u001b[0;36m0\u001b[0m\u001b[0;34m)\u001b[0m\u001b[0;34m.\u001b[0m\u001b[0mapply\u001b[0m\u001b[0;34m(\u001b[0m\u001b[0;32mlambda\u001b[0m \u001b[0mx\u001b[0m\u001b[0;34m:\u001b[0m \u001b[0;36m100\u001b[0m \u001b[0;34m*\u001b[0m \u001b[0mx\u001b[0m \u001b[0;34m/\u001b[0m \u001b[0mx\u001b[0m\u001b[0;34m.\u001b[0m\u001b[0msum\u001b[0m\u001b[0;34m(\u001b[0m\u001b[0;34m)\u001b[0m\u001b[0;34m)\u001b[0m\u001b[0;34m.\u001b[0m\u001b[0munstack\u001b[0m\u001b[0;34m(\u001b[0m\u001b[0;34m)\u001b[0m\u001b[0;34m.\u001b[0m\u001b[0mplot\u001b[0m\u001b[0;34m.\u001b[0m\u001b[0mbar\u001b[0m\u001b[0;34m(\u001b[0m\u001b[0mstacked\u001b[0m\u001b[0;34m=\u001b[0m\u001b[0;32mTrue\u001b[0m\u001b[0;34m)\u001b[0m\u001b[0;34m\u001b[0m\u001b[0;34m\u001b[0m\u001b[0m\n\u001b[0m\u001b[1;32m      2\u001b[0m \u001b[0mplt\u001b[0m\u001b[0;34m.\u001b[0m\u001b[0mxscale\u001b[0m\u001b[0;34m(\u001b[0m\u001b[0;34m'linear'\u001b[0m\u001b[0;34m)\u001b[0m\u001b[0;34m\u001b[0m\u001b[0;34m\u001b[0m\u001b[0m\n\u001b[1;32m      3\u001b[0m \u001b[0mplt\u001b[0m\u001b[0;34m.\u001b[0m\u001b[0mshow\u001b[0m\u001b[0;34m(\u001b[0m\u001b[0;34m)\u001b[0m\u001b[0;34m\u001b[0m\u001b[0;34m\u001b[0m\u001b[0m\n\u001b[1;32m      4\u001b[0m \u001b[0mdata_set\u001b[0m\u001b[0;34m.\u001b[0m\u001b[0mgroupby\u001b[0m\u001b[0;34m(\u001b[0m\u001b[0;34m[\u001b[0m\u001b[0;34m'NivelEdu'\u001b[0m\u001b[0;34m,\u001b[0m \u001b[0;34m'VarObj'\u001b[0m\u001b[0;34m]\u001b[0m\u001b[0;34m)\u001b[0m\u001b[0;34m.\u001b[0m\u001b[0msize\u001b[0m\u001b[0;34m(\u001b[0m\u001b[0;34m)\u001b[0m\u001b[0;34m.\u001b[0m\u001b[0mgroupby\u001b[0m\u001b[0;34m(\u001b[0m\u001b[0mlevel\u001b[0m\u001b[0;34m=\u001b[0m\u001b[0;36m0\u001b[0m\u001b[0;34m)\u001b[0m\u001b[0;34m.\u001b[0m\u001b[0mapply\u001b[0m\u001b[0;34m(\u001b[0m\u001b[0;32mlambda\u001b[0m \u001b[0mx\u001b[0m\u001b[0;34m:\u001b[0m \u001b[0;36m100\u001b[0m \u001b[0;34m*\u001b[0m \u001b[0mx\u001b[0m \u001b[0;34m/\u001b[0m \u001b[0mx\u001b[0m\u001b[0;34m.\u001b[0m\u001b[0msum\u001b[0m\u001b[0;34m(\u001b[0m\u001b[0;34m)\u001b[0m\u001b[0;34m)\u001b[0m\u001b[0;34m.\u001b[0m\u001b[0munstack\u001b[0m\u001b[0;34m(\u001b[0m\u001b[0;34m)\u001b[0m\u001b[0;34m.\u001b[0m\u001b[0mplot\u001b[0m\u001b[0;34m.\u001b[0m\u001b[0mbar\u001b[0m\u001b[0;34m(\u001b[0m\u001b[0mstacked\u001b[0m\u001b[0;34m=\u001b[0m\u001b[0;32mTrue\u001b[0m\u001b[0;34m)\u001b[0m\u001b[0;34m\u001b[0m\u001b[0;34m\u001b[0m\u001b[0m\n\u001b[1;32m      5\u001b[0m \u001b[0mplt\u001b[0m\u001b[0;34m.\u001b[0m\u001b[0mshow\u001b[0m\u001b[0;34m(\u001b[0m\u001b[0;34m)\u001b[0m\u001b[0;34m\u001b[0m\u001b[0;34m\u001b[0m\u001b[0m\n",
            "\u001b[0;32m/usr/local/lib/python3.10/dist-packages/pandas/core/frame.py\u001b[0m in \u001b[0;36mgroupby\u001b[0;34m(self, by, axis, level, as_index, sort, group_keys, squeeze, observed, dropna)\u001b[0m\n\u001b[1;32m   8400\u001b[0m         \u001b[0maxis\u001b[0m \u001b[0;34m=\u001b[0m \u001b[0mself\u001b[0m\u001b[0;34m.\u001b[0m\u001b[0m_get_axis_number\u001b[0m\u001b[0;34m(\u001b[0m\u001b[0maxis\u001b[0m\u001b[0;34m)\u001b[0m\u001b[0;34m\u001b[0m\u001b[0;34m\u001b[0m\u001b[0m\n\u001b[1;32m   8401\u001b[0m \u001b[0;34m\u001b[0m\u001b[0m\n\u001b[0;32m-> 8402\u001b[0;31m         return DataFrameGroupBy(\n\u001b[0m\u001b[1;32m   8403\u001b[0m             \u001b[0mobj\u001b[0m\u001b[0;34m=\u001b[0m\u001b[0mself\u001b[0m\u001b[0;34m,\u001b[0m\u001b[0;34m\u001b[0m\u001b[0;34m\u001b[0m\u001b[0m\n\u001b[1;32m   8404\u001b[0m             \u001b[0mkeys\u001b[0m\u001b[0;34m=\u001b[0m\u001b[0mby\u001b[0m\u001b[0;34m,\u001b[0m\u001b[0;34m\u001b[0m\u001b[0;34m\u001b[0m\u001b[0m\n",
            "\u001b[0;32m/usr/local/lib/python3.10/dist-packages/pandas/core/groupby/groupby.py\u001b[0m in \u001b[0;36m__init__\u001b[0;34m(self, obj, keys, axis, level, grouper, exclusions, selection, as_index, sort, group_keys, squeeze, observed, mutated, dropna)\u001b[0m\n\u001b[1;32m    963\u001b[0m             \u001b[0;32mfrom\u001b[0m \u001b[0mpandas\u001b[0m\u001b[0;34m.\u001b[0m\u001b[0mcore\u001b[0m\u001b[0;34m.\u001b[0m\u001b[0mgroupby\u001b[0m\u001b[0;34m.\u001b[0m\u001b[0mgrouper\u001b[0m \u001b[0;32mimport\u001b[0m \u001b[0mget_grouper\u001b[0m\u001b[0;34m\u001b[0m\u001b[0;34m\u001b[0m\u001b[0m\n\u001b[1;32m    964\u001b[0m \u001b[0;34m\u001b[0m\u001b[0m\n\u001b[0;32m--> 965\u001b[0;31m             grouper, exclusions, obj = get_grouper(\n\u001b[0m\u001b[1;32m    966\u001b[0m                 \u001b[0mobj\u001b[0m\u001b[0;34m,\u001b[0m\u001b[0;34m\u001b[0m\u001b[0;34m\u001b[0m\u001b[0m\n\u001b[1;32m    967\u001b[0m                 \u001b[0mkeys\u001b[0m\u001b[0;34m,\u001b[0m\u001b[0;34m\u001b[0m\u001b[0;34m\u001b[0m\u001b[0m\n",
            "\u001b[0;32m/usr/local/lib/python3.10/dist-packages/pandas/core/groupby/grouper.py\u001b[0m in \u001b[0;36mget_grouper\u001b[0;34m(obj, key, axis, level, sort, observed, mutated, validate, dropna)\u001b[0m\n\u001b[1;32m    886\u001b[0m                 \u001b[0min_axis\u001b[0m\u001b[0;34m,\u001b[0m \u001b[0mlevel\u001b[0m\u001b[0;34m,\u001b[0m \u001b[0mgpr\u001b[0m \u001b[0;34m=\u001b[0m \u001b[0;32mFalse\u001b[0m\u001b[0;34m,\u001b[0m \u001b[0mgpr\u001b[0m\u001b[0;34m,\u001b[0m \u001b[0;32mNone\u001b[0m\u001b[0;34m\u001b[0m\u001b[0;34m\u001b[0m\u001b[0m\n\u001b[1;32m    887\u001b[0m             \u001b[0;32melse\u001b[0m\u001b[0;34m:\u001b[0m\u001b[0;34m\u001b[0m\u001b[0;34m\u001b[0m\u001b[0m\n\u001b[0;32m--> 888\u001b[0;31m                 \u001b[0;32mraise\u001b[0m \u001b[0mKeyError\u001b[0m\u001b[0;34m(\u001b[0m\u001b[0mgpr\u001b[0m\u001b[0;34m)\u001b[0m\u001b[0;34m\u001b[0m\u001b[0;34m\u001b[0m\u001b[0m\n\u001b[0m\u001b[1;32m    889\u001b[0m         \u001b[0;32melif\u001b[0m \u001b[0misinstance\u001b[0m\u001b[0;34m(\u001b[0m\u001b[0mgpr\u001b[0m\u001b[0;34m,\u001b[0m \u001b[0mGrouper\u001b[0m\u001b[0;34m)\u001b[0m \u001b[0;32mand\u001b[0m \u001b[0mgpr\u001b[0m\u001b[0;34m.\u001b[0m\u001b[0mkey\u001b[0m \u001b[0;32mis\u001b[0m \u001b[0;32mnot\u001b[0m \u001b[0;32mNone\u001b[0m\u001b[0;34m:\u001b[0m\u001b[0;34m\u001b[0m\u001b[0;34m\u001b[0m\u001b[0m\n\u001b[1;32m    890\u001b[0m             \u001b[0;31m# Add key to exclusions\u001b[0m\u001b[0;34m\u001b[0m\u001b[0;34m\u001b[0m\u001b[0m\n",
            "\u001b[0;31mKeyError\u001b[0m: 'AgnosEmpleo'"
          ]
        }
      ]
    },
    {
      "cell_type": "markdown",
      "metadata": {
        "id": "DLLJMwtqoo1G"
      },
      "source": [
        "El *gráfico de cajas* o *box plot* es bastante útil como alternativa al histograma color ya que puede entregar la misma información de la distribución pero en una sola dimensión (vertical). Esto permite presentar las diferentes distribuciones de forma separada y así es más fácil contrastar las diferencias:"
      ]
    },
    {
      "cell_type": "code",
      "metadata": {
        "id": "kLErNVJhn-P3",
        "colab": {
          "base_uri": "https://localhost:8080/",
          "height": 449
        },
        "outputId": "2372b8de-7c21-4920-b46b-62e93a08ec4f"
      },
      "source": [
        "sn.boxplot(x=\"VarObj\", y=\"AgnosEmpleo\", data=data_set)\n",
        "plt.show()"
      ],
      "execution_count": null,
      "outputs": [
        {
          "output_type": "display_data",
          "data": {
            "text/plain": [
              "<Figure size 640x480 with 1 Axes>"
            ],
            "image/png": "[encoded data removed]"
          },
          "metadata": {}
        }
      ]
    },
    {
      "cell_type": "markdown",
      "metadata": {
        "id": "WLQamIXNosvl"
      },
      "source": [
        "Finalmente, el *gráfico de dispersión* (*scatter plot*) permite ver redundancia y relaciones bivariadas entre dos variables numéricas:"
      ]
    },
    {
      "cell_type": "code",
      "metadata": {
        "id": "s4ZW5t1_oNqz",
        "colab": {
          "base_uri": "https://localhost:8080/",
          "height": 449
        },
        "outputId": "f54d2974-acff-4afb-bc2b-f529378a5f90"
      },
      "source": [
        "data_set.plot(kind='scatter', x='AgnosDirec', y='AgnosEmpleo', grid=True)\n",
        "plt.show()"
      ],
      "execution_count": null,
      "outputs": [
        {
          "output_type": "display_data",
          "data": {
            "text/plain": [
              "<Figure size 640x480 with 1 Axes>"
            ],
            "image/png": "[encoded data removed]"
          },
          "metadata": {}
        }
      ]
    },
    {
      "cell_type": "markdown",
      "metadata": {
        "id": "aeAnT-J28loU"
      },
      "source": [
        "# Limpieza de datos"
      ]
    },
    {
      "cell_type": "markdown",
      "metadata": {
        "id": "Tn1caDVnLbxr"
      },
      "source": [
        "La limpieza de datos es eliminar las incongruencias encontradas en el análisis exploratorio de datos, como valores perdidos y valores atípicos, para poder trabajar la base de datos sin que estos alteren los resultados.\n",
        "\n",
        "Primero declaramos inconsistencias como valores perdidos, para luego imputar valores perdidos.\n"
      ]
    },
    {
      "cell_type": "markdown",
      "metadata": {
        "id": "1aiiWpzzFXpB"
      },
      "source": [
        "## Inconsistencias"
      ]
    },
    {
      "cell_type": "markdown",
      "metadata": {
        "id": "5O8_9NQi8y4A"
      },
      "source": [
        "La variable Edad no puede tener valores mayores a 100, dejando los mayores a este numero como valores nulos. Lo mismo se realiza para ingresos menores a 0."
      ]
    },
    {
      "cell_type": "code",
      "metadata": {
        "id": "ezsdQWev8rgs"
      },
      "source": [
        "data_set.loc[data_set['Ingreso'] < 1, ['Ingreso']] = np.nan # Cambiado\n",
        "data_set.loc[data_set['Edad'] > 100, ['Edad']] = np.nan # Cambiado"
      ],
      "execution_count": null,
      "outputs": []
    },
    {
      "cell_type": "markdown",
      "metadata": {
        "id": "mpB5QXxAAYbv"
      },
      "source": [
        "**texto en negrita**## Imputar valores perdidos"
      ]
    },
    {
      "cell_type": "markdown",
      "metadata": {
        "id": "RTb1VGraMxcj"
      },
      "source": [
        "Para hacernos cargo de los valores perdidos, proponemos tres alternativas (solo la primera se implementa; las restantes se presentan por completitud)."
      ]
    },
    {
      "cell_type": "markdown",
      "metadata": {
        "id": "lpIa57QpAlOO"
      },
      "source": [
        "**Alternativa 1: Remplazo por mediana / moda**"
      ]
    },
    {
      "cell_type": "markdown",
      "metadata": {
        "id": "XSy6ELlxPQWY"
      },
      "source": [
        "Esta alternativa la utilizamos cuando los valores perdidos son menores al 5% del total de los datos. Reemplazamos por la mediana en las variables numéricas (la media también se puede utilizar):"
      ]
    },
    {
      "cell_type": "code",
      "source": [
        "data_set.info()"
      ],
      "metadata": {
        "colab": {
          "base_uri": "https://localhost:8080/"
        },
        "id": "E2J5cQnokE1n",
        "outputId": "52c4054c-a656-4bc2-a23d-668d1fa83b25"
      },
      "execution_count": null,
      "outputs": [
        {
          "output_type": "stream",
          "name": "stdout",
          "text": [
            "<class 'pandas.core.frame.DataFrame'>\n",
            "RangeIndex: 5605 entries, 0 to 5604\n",
            "Data columns (total 24 columns):\n",
            " #   Column           Non-Null Count  Dtype  \n",
            "---  ------           --------------  -----  \n",
            " 0   CreditMes_T      5603 non-null   float64\n",
            " 1   CreditMes_T-1    5605 non-null   int64  \n",
            " 2   CreditMes_T-2    5605 non-null   int64  \n",
            " 3   NumTarjCred_T    5598 non-null   float64\n",
            " 4   NumTarjCred_T-1  5603 non-null   float64\n",
            " 5   NumTarjCred_T-2  5605 non-null   int64  \n",
            " 6   Ingreso          5601 non-null   float64\n",
            " 7   Edad             5603 non-null   float64\n",
            " 8   NumTransWeb_T    5603 non-null   float64\n",
            " 9   NumTransWeb_T-1  5603 non-null   float64\n",
            " 10  NumTransWeb_T-2  5605 non-null   int64  \n",
            " 11  MargenComp_T     5603 non-null   float64\n",
            " 12  MargenComp_T-1   5604 non-null   float64\n",
            " 13  MargenComp_T-2   5605 non-null   int64  \n",
            " 14  MargenComp_T-3   5605 non-null   int64  \n",
            " 15  MargenComp_T-4   5603 non-null   float64\n",
            " 16  MargenComp_T-5   5604 non-null   float64\n",
            " 17  MargenComp_T-6   5605 non-null   int64  \n",
            " 18  Telefono         5605 non-null   object \n",
            " 19  NivelEduc        5602 non-null   object \n",
            " 20  Genero           5605 non-null   object \n",
            " 21  EstCivil         5603 non-null   object \n",
            " 22  Region           5605 non-null   object \n",
            " 23  FUGA             5605 non-null   object \n",
            "dtypes: float64(11), int64(7), object(6)\n",
            "memory usage: 1.0+ MB\n"
          ]
        }
      ]
    },
    {
      "cell_type": "code",
      "metadata": {
        "id": "5ipADnG9AiDU"
      },
      "source": [
        "# Cambiados por la mediana, variables numéricas menores al 5%\n",
        "data_set['CreditMes_T'].fillna(data_set['CreditMes_T'].median(skipna =True), inplace=True)\n",
        "data_set['NumTarjCred_T'].fillna(data_set['NumTarjCred_T'].median(skipna =True), inplace=True)\n",
        "data_set['NumTarjCred_T-1'].fillna(data_set['NumTarjCred_T-1'].median(skipna =True), inplace=True)\n",
        "data_set['NumTransWeb_T'].fillna(data_set['NumTransWeb_T'].median(skipna =True), inplace=True)\n",
        "data_set['NumTransWeb_T-1'].fillna(data_set['NumTransWeb_T-1'].median(skipna =True), inplace=True)\n",
        "data_set['MargenComp_T'].fillna(data_set['MargenComp_T'].median(skipna =True), inplace=True)\n",
        "data_set['MargenComp_T-1'].fillna(data_set['MargenComp_T-1'].median(skipna =True), inplace=True)\n",
        "data_set['MargenComp_T-4'].fillna(data_set['MargenComp_T-4'].median(skipna =True), inplace=True)\n",
        "data_set['MargenComp_T-5'].fillna(data_set['MargenComp_T-5'].median(skipna =True), inplace=True)\n",
        "\n",
        "# Cambiados por la moda, por ser variables categóricas\n",
        "mode1 = data_set['NivelEduc'].mode() # Cambiado\n",
        "data_set['NivelEduc'].fillna(mode1[0], inplace=True)\n",
        "\n",
        "mode2 = data_set['EstCivil'].mode() # Cambiado\n",
        "data_set['EstCivil'].fillna(mode2[0], inplace=True)\n",
        "\n",
        "# Cambiar\n",
        "data_set['Ingreso'].fillna(data_set['Ingreso'].median(skipna =True), inplace=True) # Cambiado\n",
        "data_set['Edad'].fillna(100, inplace=True) # Cambiado\n"
      ],
      "execution_count": null,
      "outputs": []
    },
    {
      "cell_type": "code",
      "source": [
        "data_set.head()"
      ],
      "metadata": {
        "colab": {
          "base_uri": "https://localhost:8080/",
          "height": 273
        },
        "id": "jU73pb6pn-2U",
        "outputId": "978598d0-6283-4d16-d4c3-3eff48317b49"
      },
      "execution_count": null,
      "outputs": [
        {
          "output_type": "execute_result",
          "data": {
            "text/plain": [
              "   CreditMes_T  CreditMes_T-1  CreditMes_T-2  NumTarjCred_T  NumTarjCred_T-1  \\\n",
              "0    1031900.0         666500         608000            2.0              2.0   \n",
              "1    1078700.0         634100         583250            0.0              0.0   \n",
              "2    1076000.0         708800         621950            1.0              1.0   \n",
              "3     995450.0         599900         564350            1.0              1.0   \n",
              "4    1052150.0         609800         572450            1.0              1.0   \n",
              "\n",
              "   NumTarjCred_T-2    Ingreso  Edad  NumTransWeb_T  NumTransWeb_T-1  ...  \\\n",
              "0                2  1050050.0  30.0            1.0              0.0  ...   \n",
              "1                0   830600.0  38.0            0.0              0.0  ...   \n",
              "2                1   980700.0  25.0            0.0              0.0  ...   \n",
              "3                1  1178300.0  46.0            0.0              0.0  ...   \n",
              "4                1   868600.0  55.0            6.0              3.0  ...   \n",
              "\n",
              "   MargenComp_T-3  MargenComp_T-4  MargenComp_T-5  MargenComp_T-6  Telefono  \\\n",
              "0          252700        252800.0        260700.0          195120        SI   \n",
              "1          252800        252860.0        260780.0          196480        SI   \n",
              "2          252840        252580.0        260200.0          195380        SI   \n",
              "3          253160        253280.0        261220.0          197040        SI   \n",
              "4          253140        253040.0        260920.0          196040        SI   \n",
              "\n",
              "   NivelEduc  Genero  EstCivil Region FUGA  \n",
              "0        UNI       M       SOL     RM   NF  \n",
              "1        TEC       F       CAS     RM   NF  \n",
              "2        UNI       F       SOL     RM   NF  \n",
              "3        TEC       M       CAS     RM   NF  \n",
              "4        MED       F       SOL     RM   NF  \n",
              "\n",
              "[5 rows x 24 columns]"
            ],
            "text/html": [
              "\n",
              "  <div id=\"df-52749ce6-f62b-47f4-b650-aa67f75a0728\" class=\"colab-df-container\">\n",
              "    <div>\n",
              "<style scoped>\n",
              "    .dataframe tbody tr th:only-of-type {\n",
              "        vertical-align: middle;\n",
              "    }\n",
              "\n",
              "    .dataframe tbody tr th {\n",
              "        vertical-align: top;\n",
              "    }\n",
              "\n",
              "    .dataframe thead th {\n",
              "        text-align: right;\n",
              "    }\n",
              "</style>\n",
              "<table border=\"1\" class=\"dataframe\">\n",
              "  <thead>\n",
              "    <tr style=\"text-align: right;\">\n",
              "      <th></th>\n",
              "      <th>CreditMes_T</th>\n",
              "      <th>CreditMes_T-1</th>\n",
              "      <th>CreditMes_T-2</th>\n",
              "      <th>NumTarjCred_T</th>\n",
              "      <th>NumTarjCred_T-1</th>\n",
              "      <th>NumTarjCred_T-2</th>\n",
              "      <th>Ingreso</th>\n",
              "      <th>Edad</th>\n",
              "      <th>NumTransWeb_T</th>\n",
              "      <th>NumTransWeb_T-1</th>\n",
              "      <th>...</th>\n",
              "      <th>MargenComp_T-3</th>\n",
              "      <th>MargenComp_T-4</th>\n",
              "      <th>MargenComp_T-5</th>\n",
              "      <th>MargenComp_T-6</th>\n",
              "      <th>Telefono</th>\n",
              "      <th>NivelEduc</th>\n",
              "      <th>Genero</th>\n",
              "      <th>EstCivil</th>\n",
              "      <th>Region</th>\n",
              "      <th>FUGA</th>\n",
              "    </tr>\n",
              "  </thead>\n",
              "  <tbody>\n",
              "    <tr>\n",
              "      <th>0</th>\n",
              "      <td>1031900.0</td>\n",
              "      <td>666500</td>\n",
              "      <td>608000</td>\n",
              "      <td>2.0</td>\n",
              "      <td>2.0</td>\n",
              "      <td>2</td>\n",
              "      <td>1050050.0</td>\n",
              "      <td>30.0</td>\n",
              "      <td>1.0</td>\n",
              "      <td>0.0</td>\n",
              "      <td>...</td>\n",
              "      <td>252700</td>\n",
              "      <td>252800.0</td>\n",
              "      <td>260700.0</td>\n",
              "      <td>195120</td>\n",
              "      <td>SI</td>\n",
              "      <td>UNI</td>\n",
              "      <td>M</td>\n",
              "      <td>SOL</td>\n",
              "      <td>RM</td>\n",
              "      <td>NF</td>\n",
              "    </tr>\n",
              "    <tr>\n",
              "      <th>1</th>\n",
              "      <td>1078700.0</td>\n",
              "      <td>634100</td>\n",
              "      <td>583250</td>\n",
              "      <td>0.0</td>\n",
              "      <td>0.0</td>\n",
              "      <td>0</td>\n",
              "      <td>830600.0</td>\n",
              "      <td>38.0</td>\n",
              "      <td>0.0</td>\n",
              "      <td>0.0</td>\n",
              "      <td>...</td>\n",
              "      <td>252800</td>\n",
              "      <td>252860.0</td>\n",
              "      <td>260780.0</td>\n",
              "      <td>196480</td>\n",
              "      <td>SI</td>\n",
              "      <td>TEC</td>\n",
              "      <td>F</td>\n",
              "      <td>CAS</td>\n",
              "      <td>RM</td>\n",
              "      <td>NF</td>\n",
              "    </tr>\n",
              "    <tr>\n",
              "      <th>2</th>\n",
              "      <td>1076000.0</td>\n",
              "      <td>708800</td>\n",
              "      <td>621950</td>\n",
              "      <td>1.0</td>\n",
              "      <td>1.0</td>\n",
              "      <td>1</td>\n",
              "      <td>980700.0</td>\n",
              "      <td>25.0</td>\n",
              "      <td>0.0</td>\n",
              "      <td>0.0</td>\n",
              "      <td>...</td>\n",
              "      <td>252840</td>\n",
              "      <td>252580.0</td>\n",
              "      <td>260200.0</td>\n",
              "      <td>195380</td>\n",
              "      <td>SI</td>\n",
              "      <td>UNI</td>\n",
              "      <td>F</td>\n",
              "      <td>SOL</td>\n",
              "      <td>RM</td>\n",
              "      <td>NF</td>\n",
              "    </tr>\n",
              "    <tr>\n",
              "      <th>3</th>\n",
              "      <td>995450.0</td>\n",
              "      <td>599900</td>\n",
              "      <td>564350</td>\n",
              "      <td>1.0</td>\n",
              "      <td>1.0</td>\n",
              "      <td>1</td>\n",
              "      <td>1178300.0</td>\n",
              "      <td>46.0</td>\n",
              "      <td>0.0</td>\n",
              "      <td>0.0</td>\n",
              "      <td>...</td>\n",
              "      <td>253160</td>\n",
              "      <td>253280.0</td>\n",
              "      <td>261220.0</td>\n",
              "      <td>197040</td>\n",
              "      <td>SI</td>\n",
              "      <td>TEC</td>\n",
              "      <td>M</td>\n",
              "      <td>CAS</td>\n",
              "      <td>RM</td>\n",
              "      <td>NF</td>\n",
              "    </tr>\n",
              "    <tr>\n",
              "      <th>4</th>\n",
              "      <td>1052150.0</td>\n",
              "      <td>609800</td>\n",
              "      <td>572450</td>\n",
              "      <td>1.0</td>\n",
              "      <td>1.0</td>\n",
              "      <td>1</td>\n",
              "      <td>868600.0</td>\n",
              "      <td>55.0</td>\n",
              "      <td>6.0</td>\n",
              "      <td>3.0</td>\n",
              "      <td>...</td>\n",
              "      <td>253140</td>\n",
              "      <td>253040.0</td>\n",
              "      <td>260920.0</td>\n",
              "      <td>196040</td>\n",
              "      <td>SI</td>\n",
              "      <td>MED</td>\n",
              "      <td>F</td>\n",
              "      <td>SOL</td>\n",
              "      <td>RM</td>\n",
              "      <td>NF</td>\n",
              "    </tr>\n",
              "  </tbody>\n",
              "</table>\n",
              "<p>5 rows × 24 columns</p>\n",
              "</div>\n",
              "    <div class=\"colab-df-buttons\">\n",
              "\n",
              "  <div class=\"colab-df-container\">\n",
              "    <button class=\"colab-df-convert\" onclick=\"convertToInteractive('df-52749ce6-f62b-47f4-b650-aa67f75a0728')\"\n",
              "            title=\"Convert this dataframe to an interactive table.\"\n",
              "            style=\"display:none;\">\n",
              "\n",
              "  <svg xmlns=\"http://www.w3.org/2000/svg\" height=\"24px\" viewBox=\"0 -960 960 960\">\n",
              "    <path d=\"M120-120v-720h720v720H120Zm60-500h600v-160H180v160Zm220 220h160v-160H400v160Zm0 220h160v-160H400v160ZM180-400h160v-160H180v160Zm440 0h160v-160H620v160ZM180-180h160v-160H180v160Zm440 0h160v-160H620v160Z\"/>\n",
              "  </svg>\n",
              "    </button>\n",
              "\n",
              "  <style>\n",
              "    .colab-df-container {\n",
              "      display:flex;\n",
              "      gap: 12px;\n",
              "    }\n",
              "\n",
              "    .colab-df-convert {\n",
              "      background-color: #E8F0FE;\n",
              "      border: none;\n",
              "      border-radius: 50%;\n",
              "      cursor: pointer;\n",
              "      display: none;\n",
              "      fill: #1967D2;\n",
              "      height: 32px;\n",
              "      padding: 0 0 0 0;\n",
              "      width: 32px;\n",
              "    }\n",
              "\n",
              "    .colab-df-convert:hover {\n",
              "      background-color: #E2EBFA;\n",
              "      box-shadow: 0px 1px 2px rgba(60, 64, 67, 0.3), 0px 1px 3px 1px rgba(60, 64, 67, 0.15);\n",
              "      fill: #174EA6;\n",
              "    }\n",
              "\n",
              "    .colab-df-buttons div {\n",
              "      margin-bottom: 4px;\n",
              "    }\n",
              "\n",
              "    [theme=dark] .colab-df-convert {\n",
              "      background-color: #3B4455;\n",
              "      fill: #D2E3FC;\n",
              "    }\n",
              "\n",
              "    [theme=dark] .colab-df-convert:hover {\n",
              "      background-color: #434B5C;\n",
              "      box-shadow: 0px 1px 3px 1px rgba(0, 0, 0, 0.15);\n",
              "      filter: drop-shadow(0px 1px 2px rgba(0, 0, 0, 0.3));\n",
              "      fill: #FFFFFF;\n",
              "    }\n",
              "  </style>\n",
              "\n",
              "    <script>\n",
              "      const buttonEl =\n",
              "        document.querySelector('#df-52749ce6-f62b-47f4-b650-aa67f75a0728 button.colab-df-convert');\n",
              "      buttonEl.style.display =\n",
              "        google.colab.kernel.accessAllowed ? 'block' : 'none';\n",
              "\n",
              "      async function convertToInteractive(key) {\n",
              "        const element = document.querySelector('#df-52749ce6-f62b-47f4-b650-aa67f75a0728');\n",
              "        const dataTable =\n",
              "          await google.colab.kernel.invokeFunction('convertToInteractive',\n",
              "                                                    [key], {});\n",
              "        if (!dataTable) return;\n",
              "\n",
              "        const docLinkHtml = 'Like what you see? Visit the ' +\n",
              "          '<a target=\"_blank\" href=https://colab.research.google.com/notebooks/data_table.ipynb>data table notebook</a>'\n",
              "          + ' to learn more about interactive tables.';\n",
              "        element.innerHTML = '';\n",
              "        dataTable['output_type'] = 'display_data';\n",
              "        await google.colab.output.renderOutput(dataTable, element);\n",
              "        const docLink = document.createElement('div');\n",
              "        docLink.innerHTML = docLinkHtml;\n",
              "        element.appendChild(docLink);\n",
              "      }\n",
              "    </script>\n",
              "  </div>\n",
              "\n",
              "\n",
              "<div id=\"df-742ddf61-6b05-4873-85ed-89f72847a18f\">\n",
              "  <button class=\"colab-df-quickchart\" onclick=\"quickchart('df-742ddf61-6b05-4873-85ed-89f72847a18f')\"\n",
              "            title=\"Suggest charts.\"\n",
              "            style=\"display:none;\">\n",
              "\n",
              "<svg xmlns=\"http://www.w3.org/2000/svg\" height=\"24px\"viewBox=\"0 0 24 24\"\n",
              "     width=\"24px\">\n",
              "    <g>\n",
              "        <path d=\"M19 3H5c-1.1 0-2 .9-2 2v14c0 1.1.9 2 2 2h14c1.1 0 2-.9 2-2V5c0-1.1-.9-2-2-2zM9 17H7v-7h2v7zm4 0h-2V7h2v10zm4 0h-2v-4h2v4z\"/>\n",
              "    </g>\n",
              "</svg>\n",
              "  </button>\n",
              "\n",
              "<style>\n",
              "  .colab-df-quickchart {\n",
              "      --bg-color: #E8F0FE;\n",
              "      --fill-color: #1967D2;\n",
              "      --hover-bg-color: #E2EBFA;\n",
              "      --hover-fill-color: #174EA6;\n",
              "      --disabled-fill-color: #AAA;\n",
              "      --disabled-bg-color: #DDD;\n",
              "  }\n",
              "\n",
              "  [theme=dark] .colab-df-quickchart {\n",
              "      --bg-color: #3B4455;\n",
              "      --fill-color: #D2E3FC;\n",
              "      --hover-bg-color: #434B5C;\n",
              "      --hover-fill-color: #FFFFFF;\n",
              "      --disabled-bg-color: #3B4455;\n",
              "      --disabled-fill-color: #666;\n",
              "  }\n",
              "\n",
              "  .colab-df-quickchart {\n",
              "    background-color: var(--bg-color);\n",
              "    border: none;\n",
              "    border-radius: 50%;\n",
              "    cursor: pointer;\n",
              "    display: none;\n",
              "    fill: var(--fill-color);\n",
              "    height: 32px;\n",
              "    padding: 0;\n",
              "    width: 32px;\n",
              "  }\n",
              "\n",
              "  .colab-df-quickchart:hover {\n",
              "    background-color: var(--hover-bg-color);\n",
              "    box-shadow: 0 1px 2px rgba(60, 64, 67, 0.3), 0 1px 3px 1px rgba(60, 64, 67, 0.15);\n",
              "    fill: var(--button-hover-fill-color);\n",
              "  }\n",
              "\n",
              "  .colab-df-quickchart-complete:disabled,\n",
              "  .colab-df-quickchart-complete:disabled:hover {\n",
              "    background-color: var(--disabled-bg-color);\n",
              "    fill: var(--disabled-fill-color);\n",
              "    box-shadow: none;\n",
              "  }\n",
              "\n",
              "  .colab-df-spinner {\n",
              "    border: 2px solid var(--fill-color);\n",
              "    border-color: transparent;\n",
              "    border-bottom-color: var(--fill-color);\n",
              "    animation:\n",
              "      spin 1s steps(1) infinite;\n",
              "  }\n",
              "\n",
              "  @keyframes spin {\n",
              "    0% {\n",
              "      border-color: transparent;\n",
              "      border-bottom-color: var(--fill-color);\n",
              "      border-left-color: var(--fill-color);\n",
              "    }\n",
              "    20% {\n",
              "      border-color: transparent;\n",
              "      border-left-color: var(--fill-color);\n",
              "      border-top-color: var(--fill-color);\n",
              "    }\n",
              "    30% {\n",
              "      border-color: transparent;\n",
              "      border-left-color: var(--fill-color);\n",
              "      border-top-color: var(--fill-color);\n",
              "      border-right-color: var(--fill-color);\n",
              "    }\n",
              "    40% {\n",
              "      border-color: transparent;\n",
              "      border-right-color: var(--fill-color);\n",
              "      border-top-color: var(--fill-color);\n",
              "    }\n",
              "    60% {\n",
              "      border-color: transparent;\n",
              "      border-right-color: var(--fill-color);\n",
              "    }\n",
              "    80% {\n",
              "      border-color: transparent;\n",
              "      border-right-color: var(--fill-color);\n",
              "      border-bottom-color: var(--fill-color);\n",
              "    }\n",
              "    90% {\n",
              "      border-color: transparent;\n",
              "      border-bottom-color: var(--fill-color);\n",
              "    }\n",
              "  }\n",
              "</style>\n",
              "\n",
              "  <script>\n",
              "    async function quickchart(key) {\n",
              "      const quickchartButtonEl =\n",
              "        document.querySelector('#' + key + ' button');\n",
              "      quickchartButtonEl.disabled = true;  // To prevent multiple clicks.\n",
              "      quickchartButtonEl.classList.add('colab-df-spinner');\n",
              "      try {\n",
              "        const charts = await google.colab.kernel.invokeFunction(\n",
              "            'suggestCharts', [key], {});\n",
              "      } catch (error) {\n",
              "        console.error('Error during call to suggestCharts:', error);\n",
              "      }\n",
              "      quickchartButtonEl.classList.remove('colab-df-spinner');\n",
              "      quickchartButtonEl.classList.add('colab-df-quickchart-complete');\n",
              "    }\n",
              "    (() => {\n",
              "      let quickchartButtonEl =\n",
              "        document.querySelector('#df-742ddf61-6b05-4873-85ed-89f72847a18f button');\n",
              "      quickchartButtonEl.style.display =\n",
              "        google.colab.kernel.accessAllowed ? 'block' : 'none';\n",
              "    })();\n",
              "  </script>\n",
              "</div>\n",
              "    </div>\n",
              "  </div>\n"
            ]
          },
          "metadata": {},
          "execution_count": 69
        }
      ]
    },
    {
      "cell_type": "markdown",
      "metadata": {
        "id": "m20NaPfUMkez"
      },
      "source": [
        "Reemplazamos por la moda en las variables categóricas (esto es solo por completitud ya que \"NivelEdu\" será descartada):"
      ]
    },
    {
      "cell_type": "code",
      "metadata": {
        "id": "njxO-JKHFI_H"
      },
      "source": [
        "mode = data_set['NivelEduc'].mode()\n",
        "data_set['NivelEduc'].fillna(mode[0], inplace=True)"
      ],
      "execution_count": null,
      "outputs": []
    },
    {
      "cell_type": "markdown",
      "metadata": {
        "id": "ntPKaLUqJxYV"
      },
      "source": [
        "**Alternativa 2: Eliminación de casos (filas)**"
      ]
    },
    {
      "cell_type": "markdown",
      "metadata": {
        "id": "yvjsmP5PMtoN"
      },
      "source": [
        "Esta alternativa también la podemos utilizar cuando los valores perdidos son menores al 5% del total de los datos y tenemos una gran cantidad de registros. La ventaja es que no inventamos valores como en el caso anterior pero perdemos la información de las otras variables en la fila. La ventaja es que se puede implementar de forma muy simple:\n"
      ]
    },
    {
      "cell_type": "code",
      "metadata": {
        "id": "Ytw7yIJwKOSM"
      },
      "source": [
        "data_set = data_set.dropna(axis=0, how='any')"
      ],
      "execution_count": null,
      "outputs": []
    },
    {
      "cell_type": "markdown",
      "metadata": {
        "id": "CMRDU95aMO8P"
      },
      "source": [
        "**Alternativa 3: Imputación múltiple**"
      ]
    },
    {
      "cell_type": "markdown",
      "metadata": {
        "id": "rMJFxdboQKeI"
      },
      "source": [
        "La imputación múltiple consiste en rellenar todos los valores faltantes de forma simultánea utilizando simulación. La idea es respetar tanto las distribuciones de cada variable como las correlaciones entre ellas. Es lo más sofisticado que sugerimos, y es altamente recomendable cuando tenemos una base de datos pequeña/mediana, y un porcentaje más alto de valores perdidos (digamos, 5% a 30%). Nota: este método no suele funcionar para variables categóricas (hay que reemplazarlas por la moda antes).\n",
        "\n"
      ]
    },
    {
      "cell_type": "code",
      "metadata": {
        "id": "hBwu-fZ6MXTf",
        "colab": {
          "base_uri": "https://localhost:8080/"
        },
        "outputId": "17dc2308-604b-4ed4-fce0-0a82be1d992a"
      },
      "source": [
        "imp = IterativeImputer(max_iter=10, random_state=12700)\n",
        "num = data_set.select_dtypes(include=[\"number\"])\n",
        "cat = data_set.select_dtypes(exclude=[\"number\"])\n",
        "names = num.columns\n",
        "num = pd.DataFrame(imp.fit_transform(num))\n",
        "num.columns = names\n",
        "data_set = pd.concat([num, cat], axis=1)"
      ],
      "execution_count": null,
      "outputs": [
        {
          "output_type": "stream",
          "name": "stderr",
          "text": [
            "/usr/local/lib/python3.10/dist-packages/sklearn/impute/_iterative.py:785: ConvergenceWarning: [IterativeImputer] Early stopping criterion not reached.\n",
            "  warnings.warn(\n"
          ]
        }
      ]
    },
    {
      "cell_type": "markdown",
      "metadata": {
        "id": "0j3BJ42FEHVu"
      },
      "source": [
        "Corroboramos que no existan valores perdidos en la base de datos:"
      ]
    },
    {
      "cell_type": "code",
      "metadata": {
        "id": "cX0WL1H0EGki",
        "colab": {
          "base_uri": "https://localhost:8080/"
        },
        "outputId": "a4d9420d-605c-4d1a-e42e-4f07282c5c3d"
      },
      "source": [
        "data_set.isnull().sum()"
      ],
      "execution_count": null,
      "outputs": [
        {
          "output_type": "execute_result",
          "data": {
            "text/plain": [
              "CreditMes_T        0\n",
              "CreditMes_T-1      0\n",
              "CreditMes_T-2      0\n",
              "NumTarjCred_T      0\n",
              "NumTarjCred_T-1    0\n",
              "NumTarjCred_T-2    0\n",
              "Ingreso            0\n",
              "Edad               0\n",
              "NumTransWeb_T      0\n",
              "NumTransWeb_T-1    0\n",
              "NumTransWeb_T-2    0\n",
              "MargenComp_T       0\n",
              "MargenComp_T-1     0\n",
              "MargenComp_T-2     0\n",
              "MargenComp_T-3     0\n",
              "MargenComp_T-4     0\n",
              "MargenComp_T-5     0\n",
              "MargenComp_T-6     0\n",
              "Telefono           0\n",
              "NivelEduc          0\n",
              "Genero             0\n",
              "EstCivil           0\n",
              "Region             0\n",
              "FUGA               0\n",
              "dtype: int64"
            ]
          },
          "metadata": {},
          "execution_count": 71
        }
      ]
    },
    {
      "cell_type": "markdown",
      "metadata": {
        "id": "dTNWJgz4M_gc"
      },
      "source": [
        "Antes de continuar, eliminamos la variable ID ya que no aporta información al modelo (es un correlativo)."
      ]
    },
    {
      "cell_type": "code",
      "metadata": {
        "id": "HGgckHoBEgqQ"
      },
      "source": [
        "del data_set['Telefono'] # Cambiado\n",
        "del data_set['Region'] # Cambiado"
      ],
      "execution_count": null,
      "outputs": []
    },
    {
      "cell_type": "markdown",
      "metadata": {
        "id": "oWwrbC6pRbuq"
      },
      "source": [
        "# Transformación"
      ]
    },
    {
      "cell_type": "markdown",
      "metadata": {
        "id": "XUBjYRQ5TJxQ"
      },
      "source": [
        "La transformación de datos tiene tres objetivos principales: (1) mejorar la capacidad predictiva de una variable, (2) dar sentido matemático a las variables, y (3) igualar pesos relativos. Este tercer objetivo lo dejaremos para el final del laboratorio.\n"
      ]
    },
    {
      "cell_type": "markdown",
      "metadata": {
        "id": "g5Won3rzhK8G"
      },
      "source": [
        "## Agregación"
      ]
    },
    {
      "cell_type": "markdown",
      "metadata": {
        "id": "aaLQPzv3hK8I"
      },
      "source": [
        "Si una variable es categórica, podeos agrupar alternativas. Para \"NivelEdu\", por ejemplo, podemos construir \"SupCom\" + \"Posg\" = \"Completa\". Esto permite reducir la cantidad de variables binarias cuando le damos sentido matemático. De todos modos, esta variable será descartada y lo presentamos sólo como un ejemplo de código."
      ]
    },
    {
      "cell_type": "code",
      "metadata": {
        "id": "jnuOlss7hK8I"
      },
      "source": [
        "data_set['Genero'] = data_set['Genero'].replace('H', 'M') # Cambiado\n",
        "data_set['NivelEduc'] = data_set['NivelEduc'].replace('EST_UNI', 'UNI') # Cambiado\n",
        "\n",
        "\n",
        "\n"
      ],
      "execution_count": null,
      "outputs": []
    },
    {
      "cell_type": "markdown",
      "metadata": {
        "id": "qIwzzPEhG67c"
      },
      "source": [
        "Si una variable es numérica, la agregación puede ser vista como la construcción de nuevas variables que resultan de la combinación de las originales. Por ejemplo, podemos sumar la deuda interna y externa del cliente, lo que nos da la deuda total. Con esto calculamos el ratio deuda versus ingreso, que representa el endeudamiento real del cliente:\n",
        "\n",
        "DeudaIng = (DeudaInt + DeudaExt)/Ingreso\n"
      ]
    },
    {
      "cell_type": "code",
      "metadata": {
        "id": "XPYNj7qEhK8J"
      },
      "source": [
        "data_set['Credito_Total'] = (data_set['CreditMes_T'] + data_set['CreditMes_T-1'] + data_set['CreditMes_T-2'])\n",
        "data_set['Credito/Ing'] = data_set['Credito_Total']/data_set['Ingreso']\n",
        "\n",
        "# data_set['NumTarjCred_Total'] = [for i in data_set.loc[:, 'NumTarjCred_T':'NumTarjCred_T-2'].max()] # Pendiente\n",
        "\n",
        "data_set['NumTransWeb_Total'] = (data_set['NumTransWeb_T'] + data_set['NumTransWeb_T-1'] + data_set['NumTransWeb_T-2'])\n",
        "data_set['MargenComp_Total'] = (data_set['MargenComp_T'] + data_set['MargenComp_T-1'] + data_set['MargenComp_T-2'])\n"
      ],
      "execution_count": null,
      "outputs": []
    },
    {
      "cell_type": "markdown",
      "metadata": {
        "id": "fJAAo1mOSFL-"
      },
      "source": [
        "## Transformación de Box-Cox (corrección de asimetrías)"
      ]
    },
    {
      "cell_type": "markdown",
      "metadata": {
        "id": "hWTiQEJyRwf_"
      },
      "source": [
        "Si las variables son asimétricas a la izquierda (la media está muy cerca de los valores más pequeños) podemos aplicar la función logaritmo para expandir la distribución de dentro hacia afuera. Primero veamos la distribución de variables asimétricas:"
      ]
    },
    {
      "cell_type": "code",
      "metadata": {
        "id": "Zx79H6rbSaZq",
        "colab": {
          "base_uri": "https://localhost:8080/",
          "height": 879
        },
        "outputId": "d440eb27-1bf4-4808-d9d8-32cd1bb0e803"
      },
      "source": [
        "data_set['Ingreso'].plot(kind='hist',bins=150, grid=True ) # Cambiado\n",
        "plt.show()\n",
        "data_set['Credito_Total'].plot(kind='hist',bins=150, grid=True ) # Cambiado\n",
        "plt.show()\n",
        "#data_set['Credito/Ing'].plot(kind='hist',bins=150, grid=True)\n",
        "#plt.show()"
      ],
      "execution_count": null,
      "outputs": [
        {
          "output_type": "display_data",
          "data": {
            "text/plain": [
              "<Figure size 640x480 with 1 Axes>"
            ],
            "image/png": "[encoded data removed]"
          },
          "metadata": {}
        },
        {
          "output_type": "display_data",
          "data": {
            "text/plain": [
              "<Figure size 640x480 with 1 Axes>"
            ],
            "image/png": "[encoded data removed]"
          },
          "metadata": {}
        }
      ]
    },
    {
      "cell_type": "markdown",
      "metadata": {
        "id": "SR_dsQMjWe5J"
      },
      "source": [
        "Como vemos, las variables son efectivamente asimétricas, por lo que le aplicamos su logaritmo (sumar 1 evita que se indefina la función en caso de haber ceros):"
      ]
    },
    {
      "cell_type": "code",
      "metadata": {
        "id": "66SqOTHpXJkd"
      },
      "source": [
        "data_set['Ln_Ingreso'] = np.log(data_set['Ingreso']+1) # Cambiado\n",
        "data_set['Ln_Credito_Total'] = np.log(data_set['Credito_Total']+1) # Cambiado"
      ],
      "execution_count": null,
      "outputs": []
    },
    {
      "cell_type": "markdown",
      "metadata": {
        "id": "_RErf1LMWyUB"
      },
      "source": [
        "Ahora grafiquemos estas nuevas variables:"
      ]
    },
    {
      "cell_type": "code",
      "metadata": {
        "id": "Z4T-0nBuX7Cu",
        "colab": {
          "base_uri": "https://localhost:8080/",
          "height": 843
        },
        "outputId": "d2fb54d2-04c9-4cf6-e2ba-84d3af4ecda2"
      },
      "source": [
        "data_set['Ln_Ingreso'].plot(kind='hist',bins=100, grid=True ) # Cambiado\n",
        "plt.show()\n",
        "data_set['Ln_Credito_Total'].plot(kind='hist',bins=100, grid=True ) # Cambiado\n",
        "plt.show()"
      ],
      "execution_count": null,
      "outputs": [
        {
          "output_type": "display_data",
          "data": {
            "text/plain": [
              "<Figure size 640x480 with 1 Axes>"
            ],
            "image/png": "[encoded data removed]"
          },
          "metadata": {}
        },
        {
          "output_type": "display_data",
          "data": {
            "text/plain": [
              "<Figure size 640x480 with 1 Axes>"
            ],
            "image/png": "[encoded data removed]"
          },
          "metadata": {}
        }
      ]
    },
    {
      "cell_type": "markdown",
      "metadata": {
        "id": "nt7BjNOyzlbX"
      },
      "source": [
        "Como vemos en los gráficos anteriores, la asimetría se corrije y las distribuciones nuevas se acercan a una normal. Eliminamos las variables \"Ingreso\", \"DeudaExt\" y \"DeudaInt\" para quedarnos solo con sus logaritmos. Aprovechamos de eliminar \"NivelEdu\" por ser una variable sesgada."
      ]
    },
    {
      "cell_type": "code",
      "metadata": {
        "id": "4-4JafAZZgsi"
      },
      "source": [
        "del data_set['Ingreso']\n",
        "del data_set['Credito_Total']\n",
        "# del data_set['NivelEdu']"
      ],
      "execution_count": null,
      "outputs": []
    },
    {
      "cell_type": "markdown",
      "metadata": {
        "id": "rDrVP7eVY06S"
      },
      "source": [
        "## Dar sentido matemático a variables nominales"
      ]
    },
    {
      "cell_type": "markdown",
      "metadata": {
        "id": "AaGXkzHNUMrO"
      },
      "source": [
        "Transformamos las variables categóricas de la base de datos a variables binarias:"
      ]
    },
    {
      "cell_type": "code",
      "metadata": {
        "id": "gQuROPG_GDdD"
      },
      "source": [
        "data_set = pd.get_dummies(data_set, columns = [\"VarObj\"], drop_first = True)\n",
        "data_set = pd.get_dummies(data_set, columns = [\"Nacionalidad\"]) #sin drop_first porque todos toman el mismo valor entonces la elimina\n",
        "data_set.info()"
      ],
      "execution_count": null,
      "outputs": []
    },
    {
      "cell_type": "markdown",
      "metadata": {
        "id": "lTffvV7wdYeh"
      },
      "source": [
        "# Filtros (Selección de atributos)"
      ]
    },
    {
      "cell_type": "markdown",
      "metadata": {
        "id": "QP8atF8nb5N1"
      },
      "source": [
        "Los filtros se utilizan para elegir un subconjunto de variables relevantes eliminando las que generan ruido antes de correr los modelos. Veremos tres criterios:"
      ]
    },
    {
      "cell_type": "markdown",
      "metadata": {
        "id": "NRDS3IDYdkcx"
      },
      "source": [
        "## Inutilidad"
      ]
    },
    {
      "cell_type": "markdown",
      "metadata": {
        "id": "dE1QchbGdeYV"
      },
      "source": [
        "Este criterio consiste en descartar las variables muy concentradas dentro de la base de datos.  Para esto calculamos la desviación estándar de las variables:"
      ]
    },
    {
      "cell_type": "code",
      "metadata": {
        "id": "Wz4_uLTDAp8J"
      },
      "source": [
        "data_set.std()"
      ],
      "execution_count": null,
      "outputs": []
    },
    {
      "cell_type": "markdown",
      "metadata": {
        "id": "TlXxsmaR1ZdR"
      },
      "source": [
        "Descartamos Nacionalidad porque su desviación estándar es 0, es decir, la variable siempre toma el mismo valor."
      ]
    },
    {
      "cell_type": "code",
      "metadata": {
        "id": "BNihXBXpgC0v"
      },
      "source": [
        "del data_set['Nacionalidad_N']"
      ],
      "execution_count": null,
      "outputs": []
    },
    {
      "cell_type": "markdown",
      "metadata": {
        "id": "nkDNCBrtj2v9"
      },
      "source": [
        "## Redundancia"
      ]
    },
    {
      "cell_type": "markdown",
      "metadata": {
        "id": "3y-dNhz9dy_k"
      },
      "source": [
        "Este criterio consiste en encontrar las variables que están muy correlacionadas entre sí, dejando solo una. Variables redundantes no aportan información nueva. Lo primero es visualizar la matriz de correlaciones bivariadas mediante un *heatmap*:"
      ]
    },
    {
      "cell_type": "code",
      "metadata": {
        "id": "-BjxHTh0j5X1"
      },
      "source": [
        "corrmat = data_set.corr().abs()\n",
        "f, ax = plt.subplots(figsize=(10, 7))\n",
        "sn.heatmap(corrmat, square=True)"
      ],
      "execution_count": null,
      "outputs": []
    },
    {
      "cell_type": "markdown",
      "metadata": {
        "id": "6pAHik6BdkCd"
      },
      "source": [
        "En la figura anterior vemos que la variable ingreso y ingreso2 estan altamente correlacionadas (0.986, como se observa en el código de abajo) por lo que tenemos que eliminar una. Podemos analizar la relevancia de ambas para saber cual elegir."
      ]
    },
    {
      "cell_type": "code",
      "metadata": {
        "id": "pk3O_kbfIBei"
      },
      "source": [
        "corrmat.loc[\"Ln_Ingreso\"]"
      ],
      "execution_count": null,
      "outputs": []
    },
    {
      "cell_type": "markdown",
      "metadata": {
        "id": "VqDeHhBynvmS"
      },
      "source": [
        "## Relevancia"
      ]
    },
    {
      "cell_type": "markdown",
      "metadata": {
        "id": "M6NnN5NdeZhF"
      },
      "source": [
        "Finalmente, este criterio consiste en ver que variables de la matriz X están más correlacionadas con la variable objetivo Y. Utilizaremos el test chi cuadrado que calcula la relación entre dos variables nominales. Las variables numéricas las podemos discretizar.\n",
        "\n",
        "Calcularemos la relevancia entre las variables redundantes \"Ingreso\" e \"Ingreso2\", las cuales discretizaremos en 5 *bins* o tramos:"
      ]
    },
    {
      "cell_type": "code",
      "metadata": {
        "id": "yQWOd63ybNTP"
      },
      "source": [
        "cut_points = data_set['Ln_Ingreso'].quantile([0, .2, .4, .6, .8, 1]) #el array es como quiero dividir los datos\n",
        "Ingreso_binned = pd.cut(data_set['Ln_Ingreso'], bins =cut_points, include_lowest= True ) # bins puede ser un int tambien con el numero de diviciones en el intervalo y en base a eso lo divide\n",
        "cut_points = data_set['Ln_Ingreso2'].quantile([0, .2, .4, .6, .8, 1])\n",
        "Ingreso2_binned = pd.cut(data_set['Ln_Ingreso2'], bins =cut_points, include_lowest= True )"
      ],
      "execution_count": null,
      "outputs": []
    },
    {
      "cell_type": "markdown",
      "metadata": {
        "id": "XLsfzasqNfBc"
      },
      "source": [
        "Ahora que tenemos las variables discretizadas \"Ingreso_binned\" e \"Ingreso2_binned\", procedemos a calcular el test chi cuadrado:"
      ]
    },
    {
      "cell_type": "code",
      "metadata": {
        "id": "rdvhvg1sfMN9"
      },
      "source": [
        "tbl = pd.crosstab(index= Ingreso_binned,columns=data_set['VarObj_S'])\n",
        "stat, p, dof, expected = chi2_contingency(tbl)\n",
        "print('Valor chi cuadrado = %d' % stat)\n",
        "print('P-valor =%f' % p)\n",
        "tbl = pd.crosstab(index=Ingreso2_binned, columns=data_set['VarObj_S'])\n",
        "stat, p, dof, expected = chi2_contingency(tbl)\n",
        "print('Valor chi cuadrado = %d' % stat)\n",
        "print('P-valor =%f' % p)"
      ],
      "execution_count": null,
      "outputs": []
    },
    {
      "cell_type": "markdown",
      "metadata": {
        "id": "xHoG-2wpTbk0"
      },
      "source": [
        "Finalmente, ambas tienen casi igual relevancia, lo que es esperado dada su alta correlación. Sin embargo, Ln_Ingreso2 es ligeramente más relevante (Valor chi cuadrado = 38 versus Valor chi cuadrado = 37), por lo que eliminaremos la variable Ingreso."
      ]
    },
    {
      "cell_type": "code",
      "metadata": {
        "id": "943YhScIL0v_"
      },
      "source": [
        "del data_set['Ln_Ingreso']"
      ],
      "execution_count": null,
      "outputs": []
    },
    {
      "cell_type": "markdown",
      "metadata": {
        "id": "EQwD13jVtSvi"
      },
      "source": [
        "**Selección de variables más relevantes**"
      ]
    },
    {
      "cell_type": "markdown",
      "metadata": {
        "id": "1SJmIh_1nQbU"
      },
      "source": [
        "Seleccionaremos las variables más relevantes con el método SelectKbest. Primero definimos como X las variables independientes y como Y la variable dependiente:"
      ]
    },
    {
      "cell_type": "code",
      "metadata": {
        "id": "d6m6k7Z2uKU3"
      },
      "source": [
        "X = data_set.loc[:, data_set.columns != 'VarObj_S']\n",
        "y = data_set.loc[:, data_set.columns == 'VarObj_S']\n",
        "X.shape #esto nos dice que tenemos 7 variables)"
      ],
      "execution_count": null,
      "outputs": []
    },
    {
      "cell_type": "markdown",
      "metadata": {
        "id": "Yvx3tNjpuTDs"
      },
      "source": [
        "Ahora aplicamos la función SelectKBest con el test F de Fisher (opción por defecto, similar a ANOVA) para determinar las variables más relevantes. Alternativamente, se puede utilizar el test chi cuadrado (\"chi2\") si las variables son principalmente nominales:"
      ]
    },
    {
      "cell_type": "code",
      "metadata": {
        "id": "LhXm7gWFnaa3"
      },
      "source": [
        "X_new = SelectKBest(k=5).fit(X, y.values.ravel())\n",
        "#Veamos el test F y p-valor de todas las variables (no importa que diga k=5; es un número arbitrario)\n",
        "print(X_new.scores_)\n",
        "print(X_new.pvalues_)\n",
        "#Vemos que todas las variables son relevantes para el problema (p-valor<0.05). No descartamos variables"
      ],
      "execution_count": null,
      "outputs": []
    },
    {
      "cell_type": "markdown",
      "metadata": {
        "id": "LPPdUzXM_bkP"
      },
      "source": [
        "# Guardar base de datos preprocesada"
      ]
    },
    {
      "cell_type": "markdown",
      "metadata": {
        "id": "YRjfNlAG5Vre"
      },
      "source": [
        "Descargamos la base de datos pre-procesada en Google Drive, y con esto el archivo quedará guardado en My Drive (Mi Unidad, si Drive está configurado en español). Guardaremos la base sin escalar ya que la escala original será necesaria después.\n",
        "\n"
      ]
    },
    {
      "cell_type": "code",
      "metadata": {
        "id": "hVYAjH0O5kXh"
      },
      "source": [
        "data_set.to_excel('creditSIM_preprocess.xlsx',index=False)\n",
        "!cp creditSIM_preprocess.xlsx \"gdrive/My Drive/Colab Notebooks/\""
      ],
      "execution_count": null,
      "outputs": []
    },
    {
      "cell_type": "markdown",
      "metadata": {
        "id": "tvaPZR75Tie6"
      },
      "source": [
        "**Normalización**\n",
        "\n",
        "El último paso del preprocesamiento será escalar los datos entre 0 y 1 para llevarlos a una escala común. Esto no es necesario para todos los métodos de clasificación, como veremos en los laboratorios siguientes."
      ]
    },
    {
      "cell_type": "code",
      "metadata": {
        "id": "CfGqBy4_DxtA"
      },
      "source": [
        "VarObj = data_set['VarObj_S']\n",
        "scaler = MinMaxScaler()\n",
        "scaler_data = scaler.fit(data_set)\n",
        "data_set_scaled = pd.DataFrame(scaler_data.transform(data_set), index=data_set.index, columns=data_set.columns)\n",
        "data_set_scaled['VarObj_S'] = VarObj\n",
        "print(data_set_scaled)"
      ],
      "execution_count": null,
      "outputs": []
    }
  ]
}